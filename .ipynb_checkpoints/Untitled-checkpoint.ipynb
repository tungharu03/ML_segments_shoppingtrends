{
 "cells": [
  {
   "cell_type": "code",
   "execution_count": 1,
   "id": "f9388411",
   "metadata": {},
   "outputs": [
    {
     "ename": "ImportError",
     "evalue": "Unable to import required dependencies:\nnumpy: No module named 'numpy._utils'",
     "output_type": "error",
     "traceback": [
      "\u001b[1;31m---------------------------------------------------------------------------\u001b[0m",
      "\u001b[1;31mImportError\u001b[0m                               Traceback (most recent call last)",
      "Input \u001b[1;32mIn [1]\u001b[0m, in \u001b[0;36m<cell line: 1>\u001b[1;34m()\u001b[0m\n\u001b[1;32m----> 1\u001b[0m \u001b[38;5;28;01mimport\u001b[39;00m \u001b[38;5;21;01mpandas\u001b[39;00m \u001b[38;5;28;01mas\u001b[39;00m \u001b[38;5;21;01mpd\u001b[39;00m\n\u001b[0;32m      2\u001b[0m pd\u001b[38;5;241m.\u001b[39moptions\u001b[38;5;241m.\u001b[39mdisplay\u001b[38;5;241m.\u001b[39mfloat_format \u001b[38;5;241m=\u001b[39m \u001b[38;5;124m'\u001b[39m\u001b[38;5;132;01m{:,.2f}\u001b[39;00m\u001b[38;5;124m'\u001b[39m\u001b[38;5;241m.\u001b[39mformat\n\u001b[0;32m      3\u001b[0m \u001b[38;5;28;01mimport\u001b[39;00m \u001b[38;5;21;01mnumpy\u001b[39;00m \u001b[38;5;28;01mas\u001b[39;00m \u001b[38;5;21;01mnp\u001b[39;00m\n",
      "File \u001b[1;32m~\\anaconda3\\lib\\site-packages\\pandas\\__init__.py:16\u001b[0m, in \u001b[0;36m<module>\u001b[1;34m\u001b[0m\n\u001b[0;32m     13\u001b[0m         missing_dependencies\u001b[38;5;241m.\u001b[39mappend(\u001b[38;5;124mf\u001b[39m\u001b[38;5;124m\"\u001b[39m\u001b[38;5;132;01m{\u001b[39;00mdependency\u001b[38;5;132;01m}\u001b[39;00m\u001b[38;5;124m: \u001b[39m\u001b[38;5;132;01m{\u001b[39;00me\u001b[38;5;132;01m}\u001b[39;00m\u001b[38;5;124m\"\u001b[39m)\n\u001b[0;32m     15\u001b[0m \u001b[38;5;28;01mif\u001b[39;00m missing_dependencies:\n\u001b[1;32m---> 16\u001b[0m     \u001b[38;5;28;01mraise\u001b[39;00m \u001b[38;5;167;01mImportError\u001b[39;00m(\n\u001b[0;32m     17\u001b[0m         \u001b[38;5;124m\"\u001b[39m\u001b[38;5;124mUnable to import required dependencies:\u001b[39m\u001b[38;5;130;01m\\n\u001b[39;00m\u001b[38;5;124m\"\u001b[39m \u001b[38;5;241m+\u001b[39m \u001b[38;5;124m\"\u001b[39m\u001b[38;5;130;01m\\n\u001b[39;00m\u001b[38;5;124m\"\u001b[39m\u001b[38;5;241m.\u001b[39mjoin(missing_dependencies)\n\u001b[0;32m     18\u001b[0m     )\n\u001b[0;32m     19\u001b[0m \u001b[38;5;28;01mdel\u001b[39;00m hard_dependencies, dependency, missing_dependencies\n\u001b[0;32m     21\u001b[0m \u001b[38;5;66;03m# numpy compat\u001b[39;00m\n",
      "\u001b[1;31mImportError\u001b[0m: Unable to import required dependencies:\nnumpy: No module named 'numpy._utils'"
     ]
    }
   ],
   "source": [
    "import pandas as pd\n",
    "pd.options.display.float_format = '{:,.2f}'.format\n",
    "import numpy as np\n",
    "import matplotlib.pyplot as plt\n",
    "import seaborn as sns\n",
    "from wordcloud import WordCloud, STOPWORDS\n",
    "from IPython.display import Image\n",
    "import warnings\n",
    "warnings.filterwarnings(\"ignore\")\n",
    "\n",
    "colors = [\"#89CFF0\", \"#FF69B4\", \"#FFD700\", \"#7B68EE\", \"#FF4500\",\n",
    "          \"#9370DB\", \"#32CD32\", \"#8A2BE2\", \"#FF6347\", \"#20B2AA\",\n",
    "          \"#FF69B4\", \"#00CED1\", \"#FF7F50\", \"#7FFF00\", \"#DA70D6\"]"
   ]
  },
  {
   "cell_type": "code",
   "execution_count": null,
   "id": "b0e91377",
   "metadata": {},
   "outputs": [],
   "source": [
    "pip uninstall numpy numba scipy\n"
   ]
  },
  {
   "cell_type": "code",
   "execution_count": null,
   "id": "33cb37da",
   "metadata": {},
   "outputs": [],
   "source": [
    "pip install numpy==1.21.5\n"
   ]
  },
  {
   "cell_type": "code",
   "execution_count": null,
   "id": "c5767d77",
   "metadata": {},
   "outputs": [],
   "source": [
    "pip install numba scipy\n"
   ]
  },
  {
   "cell_type": "code",
   "execution_count": null,
   "id": "09e3aeb5",
   "metadata": {},
   "outputs": [],
   "source": [
    "df = pd.read_csv('data\\shopping_trends.csv')\n",
    "df.info()"
   ]
  },
  {
   "cell_type": "code",
   "execution_count": null,
   "id": "64ba2859",
   "metadata": {},
   "outputs": [],
   "source": [
    "# Tạo từ điển ánh xạ cho \"Gender\"\n",
    "gender_mapping = {'Male': 1, 'Female': 2}\n",
    "df['Gender'] = df['Gender'].map(gender_mapping).astype(int)\n",
    "\n",
    "\n",
    "# Tạo một từ điển ánh xạ cho \"Item Purchased\"\n",
    "item_mapping = {\n",
    "    'Blouse': 1, 'Jewelry': 2, 'Pants': 3, 'Shirt': 4, 'Dress': 5,\n",
    "    'Sweater': 6, 'Jacket': 7, 'Belt': 8, 'Sunglasses': 9, 'Coat': 10,\n",
    "    'Sandals': 11, 'Socks': 12, 'Skirt': 13, 'Shorts': 14, 'Scarf': 15,\n",
    "    'Hat': 16, 'Handbag': 17, 'Hoodie': 18, 'Shoes': 19, 'T-shirt': 20,\n",
    "    'Sneakers': 21, 'Boots': 22, 'Backpack': 23, 'Gloves': 24, 'Jeans': 25\n",
    "}\n",
    "# Ánh xạ giá trị trong cột \"Item Purchased\" sang số\n",
    "df[\"Item Purchased\"] = df[\"Item Purchased\"].map(item_mapping).astype(int)\n",
    "\n",
    "\n",
    "# Tạo từ điển ánh xạ cho \"Category\"\n",
    "category_mapping = {'Clothing': 1, 'Accessories': 2, 'Footwear': 3, 'Outerwear': 4}\n",
    "df[\"Category\"] = df[\"Category\"].map(category_mapping).astype(int)\n",
    "\n",
    "\n",
    "# Tạo từ điển ánh xạ cho \"Location\"\n",
    "location_mapping = {\n",
    "    'Montana': 1, 'California': 2, 'Idaho': 3, 'Illinois': 4, 'Alabama': 5, \n",
    "    'Minnesota': 6, 'Nebraska': 7, 'New York': 8, 'Nevada': 9, 'Maryland': 10, \n",
    "    'Delaware': 11, 'Vermont': 12, 'Louisiana': 13, 'North Dakota': 14, 'Missouri': 15, \n",
    "    'West Virginia': 16, 'New Mexico': 17, 'Mississippi': 18, 'Indiana': 19, 'Georgia': 20, \n",
    "    'Kentucky': 21, 'Arkansas': 22, 'North Carolina': 23, 'Connecticut': 24, 'Virginia': 25, \n",
    "    'Ohio': 26, 'Tennessee': 27, 'Texas': 28, 'Maine': 29, 'South Carolina': 30, \n",
    "    'Colorado': 31, 'Oklahoma': 32, 'Wisconsin': 33, 'Oregon': 34, 'Pennsylvania': 35, \n",
    "    'Washington': 36, 'Michigan': 37, 'Alaska': 38, 'Massachusetts': 39, 'Wyoming': 40, \n",
    "    'Utah': 41, 'New Hampshire': 42, 'South Dakota': 43, 'Iowa': 44, 'Florida': 45, \n",
    "    'New Jersey': 46, 'Hawaii': 47, 'Arizona': 48, 'Kansas': 49, 'Rhode Island': 50\n",
    "}\n",
    "df['Location'] = df['Location'].map(location_mapping).astype(int)\n",
    "\n",
    "\n",
    "# Tạo một từ điển ánh xạ cho \"Size\"\n",
    "size_mapping = {'S': 1, 'M': 2, 'L': 3, 'XL': 4}\n",
    "df[\"Size\"] = df[\"Size\"].map(size_mapping).astype(int)\n",
    "\n",
    "\n",
    "# Tạo một từ điển ánh xạ cho \"Color\"\n",
    "color_mapping = {\n",
    "    'Olive': 1, 'Yellow': 2, 'Silver': 3, 'Teal': 4, 'Green': 5,\n",
    "    'Black': 6, 'Cyan': 7, 'Violet': 8, 'Gray': 9, 'Maroon': 10,\n",
    "    'Orange': 11, 'Charcoal': 12, 'Pink': 13, 'Magenta': 14, 'Blue': 15,\n",
    "    'Purple': 16, 'Peach': 17, 'Red': 18, 'Beige': 19, 'Indigo': 20,\n",
    "    'Lavender': 21, 'Turquoise': 22, 'White': 23, 'Brown': 24, 'Gold': 25\n",
    "}\n",
    "df[\"Color\"] = df[\"Color\"].map(color_mapping).astype(int)\n",
    "\n",
    "\n",
    "# Tạo một từ điển ánh xạ cho \"Season\"\n",
    "season_mapping = {'Spring': 1, 'Fall': 2, 'Winter': 3, 'Summer': 4}\n",
    "df[\"Season\"] = df[\"Season\"].map(season_mapping).astype(int)\n",
    "\n",
    "\n",
    "# Tạo từ điển ánh xạ cho \"Subscription Status\"\n",
    "subscription_mapping = {'No': 1, 'Yes': 2}\n",
    "df[\"Subscription Status\"] = df[\"Subscription Status\"].map(subscription_mapping).astype(int)\n",
    "\n",
    "\n",
    "# Tạo từ điển ánh xạ cho \"Payment Method\"\n",
    "payment_method_mapping = {'PayPal': 1, 'Credit Card': 2, 'Cash': 3, 'Debit Card': 4, \n",
    "                          'Venmo': 5, 'Bank Transfer': 6}\n",
    "df[\"Payment Method\"] = df[\"Payment Method\"].map(payment_method_mapping).astype(int)\n",
    "\n",
    "\n",
    "# Tạo từ điển ánh xạ cho \"Shipping Type\"\n",
    "shipping_mapping = {'Free Shipping': 1, 'Standard': 2, 'Store Pickup': 3, 'Next Day Air': 4, \n",
    "                    'Express': 5, '2-Day Shipping': 6}\n",
    "df[\"Shipping Type\"] = df[\"Shipping Type\"].map(shipping_mapping).astype(int)\n",
    "\n",
    "\n",
    "# Tạo từ điển ánh xạ cho \"Discount Applied\"\n",
    "binary_mapping = {'Yes': 1, 'No': 2}\n",
    "df[\"Discount Applied\"] = df[\"Discount Applied\"].map(binary_mapping).astype(int)\n",
    "\n",
    "\n",
    "# Tạo từ điển ánh xạ cho \"Preferred Payment Method\"\n",
    "prefered_payment_method_mapping = {'PayPal': 1, 'Credit Card': 2, 'Cash': 3, 'Debit Card': 4, \n",
    "                          'Venmo': 5, 'Bank Transfer': 6}\n",
    "df[\"Preferred Payment Method\"] = df[\"Preferred Payment Method\"].map(prefered_payment_method_mapping)\n",
    "\n",
    "\n",
    "# Tạo từ điển ánh xạ cho \"Frequency of Purchases\"\n",
    "frequency_mapping = {'Every 3 Months': 1, 'Annually': 2, 'Quarterly': 3, 'Monthly': 4, \n",
    "                     'Bi-Weekly': 5, 'Fortnightly': 6, 'Weekly': 7}\n",
    "df['Frequency of Purchases'] = df['Frequency of Purchases'].map(frequency_mapping).astype(int)\n",
    "\n",
    "\n",
    "\n",
    "# Tạo từ điển ánh xạ cho \"Review Rating\"\n",
    "def map_review_rating(rating):\n",
    "    if rating <= 1.9:\n",
    "        return 1\n",
    "    elif rating <= 2.9:\n",
    "        return 2\n",
    "    elif rating <= 3.9:\n",
    "        return 3\n",
    "    elif rating <= 4.9:\n",
    "        return 4\n",
    "    else:\n",
    "        return 5\n",
    "\n",
    "df[\"Review Rating\"] = df[\"Review Rating\"].map(map_review_rating).astype(int)\n",
    "\n"
   ]
  },
  {
   "cell_type": "code",
   "execution_count": null,
   "id": "3a71f0c4",
   "metadata": {},
   "outputs": [],
   "source": [
    "df = df[['Gender','Age', 'Category','Item Purchased','Size','Color','Season','Location','Subscription Status', 'Payment Method','Shipping Type','Preferred Payment Method','Previous Purchases','Review Rating','Frequency of Purchases']]\n",
    "df.head()\n"
   ]
  },
  {
   "cell_type": "code",
   "execution_count": null,
   "id": "56ce8416",
   "metadata": {},
   "outputs": [],
   "source": [
    "import pandas as pd\n",
    "from sdv.tabular import GaussianCopula\n",
    "\n",
    "\n",
    "\n",
    "# Huấn luyện mô hình Gaussian Copula trên dữ liệu gốc\n",
    "model = GaussianCopula()\n",
    "model.fit(df)\n",
    "\n",
    "# Tạo thêm dữ liệu tổng hợp để đạt được khoảng 20,000 bản ghi\n",
    "n_samples = 20000 - len(df)\n",
    "synthetic_data = model.sample(n_samples)\n",
    "\n",
    "# Kết hợp dữ liệu gốc và dữ liệu tổng hợp\n",
    "augmented_data = pd.concat([df, synthetic_data], ignore_index=True)\n",
    "\n",
    "# Đảo trộn dữ liệu để tăng tính ngẫu nhiên\n",
    "augmented_data = shuffle(augmented_data)\n",
    "\n",
    "# Hiển thị thông tin của dữ liệu đã gia tăng\n",
    "print(augmented_data.info())\n",
    "\n",
    "# Kiểm tra độ tương quan giữa các thuộc tính trong dữ liệu tổng hợp\n",
    "print(augmented_data.corr())\n"
   ]
  },
  {
   "cell_type": "code",
   "execution_count": null,
   "id": "d08a1d99",
   "metadata": {},
   "outputs": [],
   "source": [
    "augmented_data.head()"
   ]
  },
  {
   "cell_type": "code",
   "execution_count": null,
   "id": "5f2a75d2",
   "metadata": {},
   "outputs": [],
   "source": [
    "augmented_data.corr()['Frequency of Purchases'].sort_values(ascending=False)"
   ]
  },
  {
   "cell_type": "code",
   "execution_count": null,
   "id": "30455751",
   "metadata": {},
   "outputs": [],
   "source": [
    "data_rf = augmented_data[['Gender','Age', 'Category','Item Purchased','Size','Color','Season','Location','Subscription Status', 'Payment Method','Shipping Type','Preferred Payment Method','Previous Purchases','Review Rating','Frequency of Purchases']]\n",
    "data_rf.head()\n"
   ]
  },
  {
   "cell_type": "code",
   "execution_count": null,
   "id": "a24b8817",
   "metadata": {},
   "outputs": [],
   "source": [
    "from sklearn.model_selection import train_test_split\n",
    "from sklearn.ensemble import RandomForestClassifier\n",
    "from sklearn.metrics import accuracy_score\n",
    "\n",
    "# Lấy features và labels từ DataFrame\n",
    "X = data_rf.drop('Frequency of Purchases', axis=1)\n",
    "y = data_rf['Frequency of Purchases']\n",
    "\n",
    "# Chia dữ liệu thành tập huấn luyện và tập kiểm tra\n",
    "X_train, X_test, y_train, y_test = train_test_split(X, y, test_size=0.3, random_state=17)\n",
    "\n",
    "# Tạo một mô hình Random Forest\n",
    "clf = RandomForestClassifier(n_estimators=100)\n",
    "\n",
    "# Huấn luyện mô hình\n",
    "clf.fit(X_train, y_train)\n",
    "\n",
    "# Dự đoán nhãn của tập kiểm tra\n",
    "y_pred = clf.predict(X_test)\n",
    "\n",
    "# Tính độ chính xác của mô hình\n",
    "accuracy = accuracy_score(y_test, y_pred)\n",
    "\n",
    "print(\"Độ chính xác của mô hình:\", accuracy)\n"
   ]
  },
  {
   "cell_type": "code",
   "execution_count": null,
   "id": "92c34f8a",
   "metadata": {},
   "outputs": [],
   "source": [
    "from sklearn.metrics import accuracy_score\n",
    "\n",
    "# Dự đoán nhãn của tập huấn luyện\n",
    "y_train_pred = clf.predict(X_train)\n",
    "\n",
    "# Dự đoán nhãn của tập kiểm tra\n",
    "y_test_pred = clf.predict(X_test)\n",
    "\n",
    "# Tính độ chính xác trên tập huấn luyện và tập kiểm tra\n",
    "train_accuracy = accuracy_score(y_train, y_train_pred)\n",
    "test_accuracy = accuracy_score(y_test, y_test_pred)\n",
    "\n",
    "print(\"Độ chính xác trên tập huấn luyện:\", train_accuracy)\n",
    "print(\"Độ chính xác trên tập kiểm tra:\", test_accuracy)\n"
   ]
  },
  {
   "cell_type": "code",
   "execution_count": null,
   "id": "3596e060",
   "metadata": {},
   "outputs": [],
   "source": [
    "from sklearn.model_selection import train_test_split\n",
    "from sklearn.ensemble import RandomForestRegressor\n",
    "from sklearn.metrics import mean_squared_error\n",
    "\n",
    "# Chia dữ liệu thành train set và test set\n",
    "X = data_rf.drop('Frequency of Purchases', axis=1)\n",
    "y = data_rf['Frequency of Purchases']\n",
    "X_train, X_test, y_train, y_test = train_test_split(X, y, test_size=0.3, random_state=42)\n",
    "\n",
    "# Khởi tạo và fit mô hình Random Forest Regression\n",
    "rf_model = RandomForestRegressor(n_estimators=500, max_depth=10, min_samples_split=5, min_samples_leaf=2, max_features='sqrt', random_state=42)\n",
    "rf_model.fit(X_train, y_train)\n",
    "\n",
    "# Dự đoán trên test set\n",
    "y_pred = rf_model.predict(X_test)\n",
    "\n",
    "# Đánh giá mô hình bằng cách tính RMSE (Root Mean Squared Error)\n",
    "rmse = mean_squared_error(y_test, y_pred, squared=False)\n",
    "print(\"Root Mean Squared Error:\", rmse)\n"
   ]
  },
  {
   "cell_type": "code",
   "execution_count": null,
   "id": "36ca6b05",
   "metadata": {},
   "outputs": [],
   "source": []
  },
  {
   "cell_type": "code",
   "execution_count": null,
   "id": "20077b84",
   "metadata": {},
   "outputs": [],
   "source": []
  },
  {
   "cell_type": "code",
   "execution_count": null,
   "id": "d56b0b68",
   "metadata": {},
   "outputs": [],
   "source": []
  },
  {
   "cell_type": "code",
   "execution_count": null,
   "id": "356ceeda",
   "metadata": {},
   "outputs": [],
   "source": []
  }
 ],
 "metadata": {
  "kernelspec": {
   "display_name": "Python 3 (ipykernel)",
   "language": "python",
   "name": "python3"
  },
  "language_info": {
   "codemirror_mode": {
    "name": "ipython",
    "version": 3
   },
   "file_extension": ".py",
   "mimetype": "text/x-python",
   "name": "python",
   "nbconvert_exporter": "python",
   "pygments_lexer": "ipython3",
   "version": "3.9.12"
  }
 },
 "nbformat": 4,
 "nbformat_minor": 5
}
