{
 "cells": [
  {
   "cell_type": "code",
   "execution_count": 1,
   "id": "756fdbc7",
   "metadata": {},
   "outputs": [],
   "source": [
    "import pandas as pd\n",
    "import numpy as np\n",
    "import matplotlib.pyplot as plt\n"
   ]
  },
  {
   "cell_type": "code",
   "execution_count": 2,
   "id": "ce98c142",
   "metadata": {},
   "outputs": [
    {
     "name": "stdout",
     "output_type": "stream",
     "text": [
      "<class 'pandas.core.frame.DataFrame'>\n",
      "RangeIndex: 100 entries, 0 to 99\n",
      "Data columns (total 37 columns):\n",
      " #   Column               Non-Null Count  Dtype \n",
      "---  ------               --------------  ----- \n",
      " 0   Bắt đầu ngủ          100 non-null    object\n",
      " 1   Thời gian ngủ        100 non-null    object\n",
      " 2   Dậy lúc              100 non-null    object\n",
      " 3   Khó vào giấc         100 non-null    object\n",
      " 4   Chợt tỉnh giấc       100 non-null    object\n",
      " 5   Đi vệ sinh           100 non-null    object\n",
      " 6   Khó thở              100 non-null    object\n",
      " 7   Ho hoặc ngáy to      100 non-null    object\n",
      " 8   Quá lạnh             100 non-null    object\n",
      " 9   Quá nóng             100 non-null    object\n",
      " 10  Ác mộng              100 non-null    object\n",
      " 11  Cơ thể đau nhức      100 non-null    object\n",
      " 12  Lý do khác           100 non-null    object\n",
      " 13  Chất lượng giấc ngủ  100 non-null    object\n",
      " 14  Dùng thuốc           100 non-null    object\n",
      " 15  Không tỉnh táo       100 non-null    object\n",
      " 16  Động lực             100 non-null    object\n",
      " 17  Đi làm ca đêm        100 non-null    object\n",
      " 18  Thiết bị điện tử     100 non-null    object\n",
      " 19  Thời gian sử dụng    100 non-null    object\n",
      " 20  Chất kích thích      100 non-null    object\n",
      " 21  Vận động             100 non-null    object\n",
      " 22  Ngủ trưa             100 non-null    object\n",
      " 23  Tiêu cực             100 non-null    object\n",
      " 24  Lười làm             100 non-null    object\n",
      " 25  Thái quá             100 non-null    object\n",
      " 26  Nghĩ nhiều           100 non-null    object\n",
      " 27  Nóng vội             100 non-null    object\n",
      " 28  Tự ái                100 non-null    object\n",
      " 29  Cáu                  100 non-null    object\n",
      " 30  Thiếu động lực       100 non-null    object\n",
      " 31  Vô nghĩa             100 non-null    object\n",
      " 32  Lo sợ                100 non-null    object\n",
      " 33  Ánh sáng             100 non-null    object\n",
      " 34  Thời gian ánh sáng   100 non-null    object\n",
      " 35  Tiếng ồn             100 non-null    object\n",
      " 36  Thời gian tiếng ồn   100 non-null    object\n",
      "dtypes: object(37)\n",
      "memory usage: 29.0+ KB\n"
     ]
    }
   ],
   "source": [
    "dream = pd.read_excel('Data/Khảo sát giấc ngủ.xlsx')\n",
    "dream.info()"
   ]
  },
  {
   "cell_type": "code",
   "execution_count": 3,
   "id": "eccb875c",
   "metadata": {},
   "outputs": [
    {
     "data": {
      "text/html": [
       "<div>\n",
       "<style scoped>\n",
       "    .dataframe tbody tr th:only-of-type {\n",
       "        vertical-align: middle;\n",
       "    }\n",
       "\n",
       "    .dataframe tbody tr th {\n",
       "        vertical-align: top;\n",
       "    }\n",
       "\n",
       "    .dataframe thead th {\n",
       "        text-align: right;\n",
       "    }\n",
       "</style>\n",
       "<table border=\"1\" class=\"dataframe\">\n",
       "  <thead>\n",
       "    <tr style=\"text-align: right;\">\n",
       "      <th></th>\n",
       "      <th>Bắt đầu ngủ</th>\n",
       "      <th>Thời gian ngủ</th>\n",
       "      <th>Dậy lúc</th>\n",
       "      <th>Khó vào giấc</th>\n",
       "      <th>Chợt tỉnh giấc</th>\n",
       "      <th>Đi vệ sinh</th>\n",
       "      <th>Khó thở</th>\n",
       "      <th>Ho hoặc ngáy to</th>\n",
       "      <th>Quá lạnh</th>\n",
       "      <th>Quá nóng</th>\n",
       "      <th>...</th>\n",
       "      <th>Nóng vội</th>\n",
       "      <th>Tự ái</th>\n",
       "      <th>Cáu</th>\n",
       "      <th>Thiếu động lực</th>\n",
       "      <th>Vô nghĩa</th>\n",
       "      <th>Lo sợ</th>\n",
       "      <th>Ánh sáng</th>\n",
       "      <th>Thời gian ánh sáng</th>\n",
       "      <th>Tiếng ồn</th>\n",
       "      <th>Thời gian tiếng ồn</th>\n",
       "    </tr>\n",
       "  </thead>\n",
       "  <tbody>\n",
       "    <tr>\n",
       "      <th>14</th>\n",
       "      <td>10h</td>\n",
       "      <td>Từ 5 tiếng đến 6 tiếng rưỡi</td>\n",
       "      <td>7h30</td>\n",
       "      <td>Không lần nào</td>\n",
       "      <td>1-2 lần/tuần</td>\n",
       "      <td>1-2 lần/tuần</td>\n",
       "      <td>Không lần nào</td>\n",
       "      <td>Không lần nào</td>\n",
       "      <td>1-2 lần/tuần</td>\n",
       "      <td>1-2 lần/tuần</td>\n",
       "      <td>...</td>\n",
       "      <td>Thỉnh thoảng mới đúng</td>\n",
       "      <td>Thỉnh thoảng mới đúng</td>\n",
       "      <td>Thỉnh thoảng mới đúng</td>\n",
       "      <td>Thỉnh thoảng mới đúng</td>\n",
       "      <td>Thỉnh thoảng mới đúng</td>\n",
       "      <td>Thỉnh thoảng mới đúng</td>\n",
       "      <td>Không</td>\n",
       "      <td>1-2 lần/tuần</td>\n",
       "      <td>Không</td>\n",
       "      <td>Không lần nào</td>\n",
       "    </tr>\n",
       "  </tbody>\n",
       "</table>\n",
       "<p>1 rows × 37 columns</p>\n",
       "</div>"
      ],
      "text/plain": [
       "   Bắt đầu ngủ                Thời gian ngủ Dậy lúc   Khó vào giấc  \\\n",
       "14         10h  Từ 5 tiếng đến 6 tiếng rưỡi    7h30  Không lần nào   \n",
       "\n",
       "   Chợt tỉnh giấc    Đi vệ sinh        Khó thở Ho hoặc ngáy to      Quá lạnh  \\\n",
       "14   1-2 lần/tuần  1-2 lần/tuần  Không lần nào   Không lần nào  1-2 lần/tuần   \n",
       "\n",
       "        Quá nóng  ...               Nóng vội                  Tự ái  \\\n",
       "14  1-2 lần/tuần  ...  Thỉnh thoảng mới đúng  Thỉnh thoảng mới đúng   \n",
       "\n",
       "                      Cáu         Thiếu động lực               Vô nghĩa  \\\n",
       "14  Thỉnh thoảng mới đúng  Thỉnh thoảng mới đúng  Thỉnh thoảng mới đúng   \n",
       "\n",
       "                    Lo sợ Ánh sáng Thời gian ánh sáng Tiếng ồn  \\\n",
       "14  Thỉnh thoảng mới đúng    Không       1-2 lần/tuần    Không   \n",
       "\n",
       "   Thời gian tiếng ồn  \n",
       "14      Không lần nào  \n",
       "\n",
       "[1 rows x 37 columns]"
      ]
     },
     "execution_count": 3,
     "metadata": {},
     "output_type": "execute_result"
    }
   ],
   "source": [
    "dream.sample()"
   ]
  },
  {
   "cell_type": "code",
   "execution_count": 4,
   "id": "5d35df24",
   "metadata": {},
   "outputs": [
    {
     "data": {
      "text/html": [
       "<div>\n",
       "<style scoped>\n",
       "    .dataframe tbody tr th:only-of-type {\n",
       "        vertical-align: middle;\n",
       "    }\n",
       "\n",
       "    .dataframe tbody tr th {\n",
       "        vertical-align: top;\n",
       "    }\n",
       "\n",
       "    .dataframe thead th {\n",
       "        text-align: right;\n",
       "    }\n",
       "</style>\n",
       "<table border=\"1\" class=\"dataframe\">\n",
       "  <thead>\n",
       "    <tr style=\"text-align: right;\">\n",
       "      <th></th>\n",
       "      <th>Bắt đầu ngủ</th>\n",
       "      <th>Thời gian ngủ</th>\n",
       "      <th>Dậy lúc</th>\n",
       "      <th>Khó vào giấc</th>\n",
       "      <th>Chợt tỉnh giấc</th>\n",
       "      <th>Đi vệ sinh</th>\n",
       "      <th>Khó thở</th>\n",
       "      <th>Ho hoặc ngáy to</th>\n",
       "      <th>Quá lạnh</th>\n",
       "      <th>Quá nóng</th>\n",
       "      <th>...</th>\n",
       "      <th>Nóng vội</th>\n",
       "      <th>Tự ái</th>\n",
       "      <th>Cáu</th>\n",
       "      <th>Thiếu động lực</th>\n",
       "      <th>Vô nghĩa</th>\n",
       "      <th>Lo sợ</th>\n",
       "      <th>Ánh sáng</th>\n",
       "      <th>Thời gian ánh sáng</th>\n",
       "      <th>Tiếng ồn</th>\n",
       "      <th>Thời gian tiếng ồn</th>\n",
       "    </tr>\n",
       "  </thead>\n",
       "  <tbody>\n",
       "    <tr>\n",
       "      <th>count</th>\n",
       "      <td>100</td>\n",
       "      <td>100</td>\n",
       "      <td>100</td>\n",
       "      <td>100</td>\n",
       "      <td>100</td>\n",
       "      <td>100</td>\n",
       "      <td>100</td>\n",
       "      <td>100</td>\n",
       "      <td>100</td>\n",
       "      <td>100</td>\n",
       "      <td>...</td>\n",
       "      <td>100</td>\n",
       "      <td>100</td>\n",
       "      <td>100</td>\n",
       "      <td>100</td>\n",
       "      <td>100</td>\n",
       "      <td>100</td>\n",
       "      <td>100</td>\n",
       "      <td>100</td>\n",
       "      <td>100</td>\n",
       "      <td>100</td>\n",
       "    </tr>\n",
       "    <tr>\n",
       "      <th>unique</th>\n",
       "      <td>55</td>\n",
       "      <td>6</td>\n",
       "      <td>57</td>\n",
       "      <td>4</td>\n",
       "      <td>3</td>\n",
       "      <td>3</td>\n",
       "      <td>3</td>\n",
       "      <td>3</td>\n",
       "      <td>4</td>\n",
       "      <td>3</td>\n",
       "      <td>...</td>\n",
       "      <td>4</td>\n",
       "      <td>4</td>\n",
       "      <td>4</td>\n",
       "      <td>4</td>\n",
       "      <td>4</td>\n",
       "      <td>4</td>\n",
       "      <td>26</td>\n",
       "      <td>3</td>\n",
       "      <td>31</td>\n",
       "      <td>3</td>\n",
       "    </tr>\n",
       "    <tr>\n",
       "      <th>top</th>\n",
       "      <td>12h</td>\n",
       "      <td>Từ 5 tiếng đến 6 tiếng rưỡi</td>\n",
       "      <td>6h</td>\n",
       "      <td>1-2 lần/tuần</td>\n",
       "      <td>1-2 lần/tuần</td>\n",
       "      <td>Không lần nào</td>\n",
       "      <td>Không lần nào</td>\n",
       "      <td>Không lần nào</td>\n",
       "      <td>Không lần nào</td>\n",
       "      <td>Không lần nào</td>\n",
       "      <td>...</td>\n",
       "      <td>Thỉnh thoảng mới đúng</td>\n",
       "      <td>Không đúng với tôi chút nào cả</td>\n",
       "      <td>Thỉnh thoảng mới đúng</td>\n",
       "      <td>Thỉnh thoảng mới đúng</td>\n",
       "      <td>Không đúng với tôi chút nào cả</td>\n",
       "      <td>Thỉnh thoảng mới đúng</td>\n",
       "      <td>Không</td>\n",
       "      <td>Không lần nào</td>\n",
       "      <td>Không</td>\n",
       "      <td>Không lần nào</td>\n",
       "    </tr>\n",
       "    <tr>\n",
       "      <th>freq</th>\n",
       "      <td>12</td>\n",
       "      <td>40</td>\n",
       "      <td>9</td>\n",
       "      <td>49</td>\n",
       "      <td>48</td>\n",
       "      <td>55</td>\n",
       "      <td>65</td>\n",
       "      <td>78</td>\n",
       "      <td>49</td>\n",
       "      <td>56</td>\n",
       "      <td>...</td>\n",
       "      <td>46</td>\n",
       "      <td>39</td>\n",
       "      <td>55</td>\n",
       "      <td>39</td>\n",
       "      <td>52</td>\n",
       "      <td>48</td>\n",
       "      <td>63</td>\n",
       "      <td>56</td>\n",
       "      <td>51</td>\n",
       "      <td>45</td>\n",
       "    </tr>\n",
       "  </tbody>\n",
       "</table>\n",
       "<p>4 rows × 37 columns</p>\n",
       "</div>"
      ],
      "text/plain": [
       "       Bắt đầu ngủ                Thời gian ngủ Dậy lúc  Khó vào giấc  \\\n",
       "count          100                          100     100           100   \n",
       "unique          55                            6      57             4   \n",
       "top            12h  Từ 5 tiếng đến 6 tiếng rưỡi      6h  1-2 lần/tuần   \n",
       "freq            12                           40       9            49   \n",
       "\n",
       "       Chợt tỉnh giấc     Đi vệ sinh        Khó thở Ho hoặc ngáy to  \\\n",
       "count             100            100            100             100   \n",
       "unique              3              3              3               3   \n",
       "top      1-2 lần/tuần  Không lần nào  Không lần nào   Không lần nào   \n",
       "freq               48             55             65              78   \n",
       "\n",
       "             Quá lạnh       Quá nóng  ...               Nóng vội  \\\n",
       "count             100            100  ...                    100   \n",
       "unique              4              3  ...                      4   \n",
       "top     Không lần nào  Không lần nào  ...  Thỉnh thoảng mới đúng   \n",
       "freq               49             56  ...                     46   \n",
       "\n",
       "                                 Tự ái                    Cáu  \\\n",
       "count                              100                    100   \n",
       "unique                               4                      4   \n",
       "top     Không đúng với tôi chút nào cả  Thỉnh thoảng mới đúng   \n",
       "freq                                39                     55   \n",
       "\n",
       "               Thiếu động lực                        Vô nghĩa  \\\n",
       "count                     100                             100   \n",
       "unique                      4                               4   \n",
       "top     Thỉnh thoảng mới đúng  Không đúng với tôi chút nào cả   \n",
       "freq                       39                              52   \n",
       "\n",
       "                        Lo sợ Ánh sáng Thời gian ánh sáng Tiếng ồn  \\\n",
       "count                     100      100                100      100   \n",
       "unique                      4       26                  3       31   \n",
       "top     Thỉnh thoảng mới đúng    Không      Không lần nào    Không   \n",
       "freq                       48       63                 56       51   \n",
       "\n",
       "       Thời gian tiếng ồn  \n",
       "count                 100  \n",
       "unique                  3  \n",
       "top         Không lần nào  \n",
       "freq                   45  \n",
       "\n",
       "[4 rows x 37 columns]"
      ]
     },
     "execution_count": 4,
     "metadata": {},
     "output_type": "execute_result"
    }
   ],
   "source": [
    "dream.describe()"
   ]
  },
  {
   "cell_type": "code",
   "execution_count": 5,
   "id": "135edfe6",
   "metadata": {},
   "outputs": [
    {
     "name": "stdout",
     "output_type": "stream",
     "text": [
      "1. Thuộc tính : ['2h' '2g sáng' '12h30' '0h' '0h ' '2:00 am' '22h' '1h' '2-3h sáng'\n",
      " '10h30-11h30' '3h sáng' '10h' '11h' '2h đêm' '12:30' '23h' '24h' '12h'\n",
      " '23 giờ' '2H' '4h' '1:00 - 2:000' '0h00' '12 giờ đêm' '2 giờ sáng'\n",
      " '12-1h sáng' '00h' '11h-12h' '2h sáng' '1h đêm' '23h30=))))'\n",
      " 'Sớm cũng phải sau 12h đêm' 'Khoảng 00h-01h '\n",
      " 'Không cố định nhma sẽ trước 2 giờ sáng' '1-2h'\n",
      " 'Mình thường đi ngủ buổi tối lúc 12h30 ' '11.59pm' '01am' '12h đêm'\n",
      " '1h sáng ' 'Không cố định' '1 rưỡi sáng' '2h snág' '0h-2h' '11:30' 1\n",
      " '11h rưỡi' '1h sáng' '11 giờ' '23h30-1h' '10 rưỡi ' '12 giờ' '3h' '2h '\n",
      " '7h sáng']\n"
     ]
    }
   ],
   "source": [
    "print('1. Thuộc tính :', dream['Bắt đầu ngủ'].unique())"
   ]
  },
  {
   "cell_type": "code",
   "execution_count": 6,
   "id": "20bc2ccd",
   "metadata": {},
   "outputs": [],
   "source": [
    "dream['Bắt đầu ngủ'] = dream['Bắt đầu ngủ'].replace('2g sáng', '2h')\n",
    "dream['Bắt đầu ngủ'] = dream['Bắt đầu ngủ'].replace('2:00 am', '2h')\n",
    "dream['Bắt đầu ngủ'] = dream['Bắt đầu ngủ'].replace('2-3h sáng', '2h')\n",
    "dream['Bắt đầu ngủ'] = dream['Bắt đầu ngủ'].replace('2h đêm', '2h')\n",
    "dream['Bắt đầu ngủ'] = dream['Bắt đầu ngủ'].replace('2H', '2h')\n",
    "dream['Bắt đầu ngủ'] = dream['Bắt đầu ngủ'].replace('1:00 - 2:000', '2h')\n",
    "dream['Bắt đầu ngủ'] = dream['Bắt đầu ngủ'].replace('2 giờ sáng', '2h')\n",
    "dream['Bắt đầu ngủ'] = dream['Bắt đầu ngủ'].replace('2giờ sáng', '2h')\n",
    "dream['Bắt đầu ngủ'] = dream['Bắt đầu ngủ'].replace('2h sáng', '2h')\n",
    "dream['Bắt đầu ngủ'] = dream['Bắt đầu ngủ'].replace('1-2h', '2h')\n",
    "dream['Bắt đầu ngủ'] = dream['Bắt đầu ngủ'].replace('Không cố định nhma sẽ trước 2 giờ sáng', '2h')\n",
    "dream['Bắt đầu ngủ'] = dream['Bắt đầu ngủ'].replace('2h ', '2h')\n",
    "dream['Bắt đầu ngủ'] = dream['Bắt đầu ngủ'].replace('2h snág', '2h')\n",
    "dream['Bắt đầu ngủ'] = dream['Bắt đầu ngủ'].replace('0h-2h', '2h')\n",
    "dream['Bắt đầu ngủ'] = dream['Bắt đầu ngủ'].replace('3h', '2h')\n",
    "dream['Bắt đầu ngủ'] = dream['Bắt đầu ngủ'].replace('1 rưỡi sáng', '2h')\n",
    "dream['Bắt đầu ngủ'] = dream['Bắt đầu ngủ'].replace('0h-2h', '2h')\n",
    "dream['Bắt đầu ngủ'] = dream['Bắt đầu ngủ'].replace('3h sáng', '2h')\n",
    "dream['Bắt đầu ngủ'] = dream['Bắt đầu ngủ'].replace('7h sáng', '2h')\n",
    "dream['Bắt đầu ngủ'] = dream['Bắt đầu ngủ'].replace('4h', '2h')"
   ]
  },
  {
   "cell_type": "code",
   "execution_count": 7,
   "id": "ded9878c",
   "metadata": {},
   "outputs": [],
   "source": [
    "dream['Bắt đầu ngủ'] = dream['Bắt đầu ngủ'].replace('0h ', '0h')\n",
    "dream['Bắt đầu ngủ'] = dream['Bắt đầu ngủ'].replace('12 giờ đêm', '0h')\n",
    "dream['Bắt đầu ngủ'] = dream['Bắt đầu ngủ'].replace('00h', '0h')\n",
    "dream['Bắt đầu ngủ'] = dream['Bắt đầu ngủ'].replace('11.59pm', '0h')\n",
    "dream['Bắt đầu ngủ'] = dream['Bắt đầu ngủ'].replace('12h đêm', '0h')\n",
    "dream['Bắt đầu ngủ'] = dream['Bắt đầu ngủ'].replace('12 giờ', '0h')\n",
    "dream['Bắt đầu ngủ'] = dream['Bắt đầu ngủ'].replace('0h00', '0h')\n",
    "dream['Bắt đầu ngủ'] = dream['Bắt đầu ngủ'].replace('11h-12h', '0h')\n",
    "dream['Bắt đầu ngủ'] = dream['Bắt đầu ngủ'].replace('24h', '0h')\n",
    "dream['Bắt đầu ngủ'] = dream['Bắt đầu ngủ'].replace('12h', '0h')\n",
    "dream['Bắt đầu ngủ'] = dream['Bắt đầu ngủ'].replace('11:30', '0h')\n",
    "dream['Bắt đầu ngủ'] = dream['Bắt đầu ngủ'].replace('11h rưỡi', '0h')"
   ]
  },
  {
   "cell_type": "code",
   "execution_count": 8,
   "id": "62e6a2e4",
   "metadata": {},
   "outputs": [],
   "source": [
    "dream['Bắt đầu ngủ'] = dream['Bắt đầu ngủ'].replace('12h30', '1h')\n",
    "dream['Bắt đầu ngủ'] = dream['Bắt đầu ngủ'].replace('12:30', '1h')\n",
    "dream['Bắt đầu ngủ'] = dream['Bắt đầu ngủ'].replace('1h đêm', '1h')\n",
    "dream['Bắt đầu ngủ'] = dream['Bắt đầu ngủ'].replace('23h30=))))', '1h')\n",
    "dream['Bắt đầu ngủ'] = dream['Bắt đầu ngủ'].replace('Sớm cũng phải sau 12h đêm', '1h')\n",
    "dream['Bắt đầu ngủ'] = dream['Bắt đầu ngủ'].replace('Khoảng 00h-01h', '1h')\n",
    "dream['Bắt đầu ngủ'] = dream['Bắt đầu ngủ'].replace('Mình thường đi ngủ buổi tối lúc 12h30 ', '1h')\n",
    "dream['Bắt đầu ngủ'] = dream['Bắt đầu ngủ'].replace('01am', '1h')\n",
    "dream['Bắt đầu ngủ'] = dream['Bắt đầu ngủ'].replace('1h sáng ', '1h')\n",
    "dream['Bắt đầu ngủ'] = dream['Bắt đầu ngủ'].replace(' 1 ', '1h')\n",
    "dream['Bắt đầu ngủ'] = dream['Bắt đầu ngủ'].replace('1h sáng', '1h')\n",
    "dream['Bắt đầu ngủ'] = dream['Bắt đầu ngủ'].replace('23h30-1h', '1h')\n",
    "dream['Bắt đầu ngủ'] = dream['Bắt đầu ngủ'].replace('12-1h sáng', '1h')\n",
    "dream['Bắt đầu ngủ'] = dream['Bắt đầu ngủ'].replace('Khoảng 00h-01h ', '1h')\n",
    "dream['Bắt đầu ngủ'] = dream['Bắt đầu ngủ'].replace(1, '1h')"
   ]
  },
  {
   "cell_type": "code",
   "execution_count": 9,
   "id": "b9fe9739",
   "metadata": {},
   "outputs": [],
   "source": [
    "dream['Bắt đầu ngủ'] = dream['Bắt đầu ngủ'].replace('10h30-11h30', '23h')\n",
    "dream['Bắt đầu ngủ'] = dream['Bắt đầu ngủ'].replace('11h', '23h')\n",
    "dream['Bắt đầu ngủ'] = dream['Bắt đầu ngủ'].replace('23 giờ', '23h')\n",
    "dream['Bắt đầu ngủ'] = dream['Bắt đầu ngủ'].replace('11 giờ', '23h')\n",
    "dream['Bắt đầu ngủ'] = dream['Bắt đầu ngủ'].replace('10 rưỡi ', '23h')\n",
    "dream['Bắt đầu ngủ'] = dream['Bắt đầu ngủ'].replace('10h', '22h')"
   ]
  },
  {
   "cell_type": "code",
   "execution_count": 10,
   "id": "9d9d2e86",
   "metadata": {},
   "outputs": [
    {
     "name": "stdout",
     "output_type": "stream",
     "text": [
      "1. Thuộc tính : ['2h' '1h' '0h' '22h' '23h' 'Không cố định']\n"
     ]
    }
   ],
   "source": [
    "print('1. Thuộc tính :', dream['Bắt đầu ngủ'].unique())"
   ]
  },
  {
   "cell_type": "code",
   "execution_count": 11,
   "id": "8c62eb31",
   "metadata": {},
   "outputs": [],
   "source": [
    "convert_batdaungu = {'Không cố định': 1,\n",
    "                '22h':2,\n",
    "                '23h':3,\n",
    "                '0h':4,\n",
    "                 '1h':5,\n",
    "                '2h':6}\n",
    "dream['Bắt đầu ngủ']=dream['Bắt đầu ngủ'].map(convert_batdaungu).astype(int)\n"
   ]
  },
  {
   "cell_type": "code",
   "execution_count": null,
   "id": "a6fff428",
   "metadata": {},
   "outputs": [],
   "source": []
  },
  {
   "cell_type": "code",
   "execution_count": 12,
   "id": "af175f34",
   "metadata": {},
   "outputs": [],
   "source": [
    "index_to_drop = dream[dream['Thời gian ngủ'] == '12 tiếng'].index\n",
    "dream.drop(index_to_drop, inplace=True)"
   ]
  },
  {
   "cell_type": "code",
   "execution_count": 13,
   "id": "06d199c9",
   "metadata": {},
   "outputs": [
    {
     "name": "stdout",
     "output_type": "stream",
     "text": [
      "1. Thuộc tính : ['Trên 8 tiếng'\n",
      " 'Có thể là trên 8 tiếng hoặc dưới 6 tiếng tuỳ vào thời khoá biểu'\n",
      " 'Dưới 5 tiếng' 'Từ 5 tiếng đến 6 tiếng rưỡi'\n",
      " 'Từ 6 tiếng rưỡi đến 8 tiếng']\n"
     ]
    }
   ],
   "source": [
    "print('1. Thuộc tính :', dream['Thời gian ngủ'].unique())"
   ]
  },
  {
   "cell_type": "code",
   "execution_count": 14,
   "id": "4659cc0c",
   "metadata": {},
   "outputs": [],
   "source": [
    "convert_thoigianngu= {'Trên 8 tiếng': 1,\n",
    "                'Có thể là trên 8 tiếng hoặc dưới 6 tiếng tuỳ vào thời khoá biểu':2,\n",
    "                'Trên 8 tiếng':3,\n",
    "                'Dưới 5 tiếng' :4,\n",
    "                 'Từ 5 tiếng đến 6 tiếng rưỡi':5,\n",
    "                'Từ 6 tiếng rưỡi đến 8 tiếng':6\n",
    "                    }\n",
    "dream['Thời gian ngủ']=dream['Thời gian ngủ'].map(convert_thoigianngu).astype(int)"
   ]
  },
  {
   "cell_type": "code",
   "execution_count": null,
   "id": "4821bcc0",
   "metadata": {},
   "outputs": [],
   "source": []
  },
  {
   "cell_type": "code",
   "execution_count": 15,
   "id": "e2f71032",
   "metadata": {},
   "outputs": [
    {
     "name": "stdout",
     "output_type": "stream",
     "text": [
      "1. Thuộc tính : ['11h' '9g - 9r' '7h' '6h30' '8-9h' '6h sáng ' '9:00' '6h15' '10h-11h'\n",
      " '6h sáng' '6h-8h' '8h' '6h' '7h30' '5h sáng' '5:30' '5h30' '10h' '6 giờ'\n",
      " '7h ' '8H' 10 '7:00' '6-7h ' '9h' '7:30'\n",
      " '7h-9h tùy có phải đi học sớm hay k' '6h30 sáng' '10 giờ trưa'\n",
      " '7-9h sáng' '8h ' 'Khoảng 6h hàng ngày' '2h ' '6-7h' '9h '\n",
      " '6h nếu hôm đấy học từ tiết 1 và 7 rưỡi nếu học từ giữa buổi=)))'\n",
      " 'Tùy vào lịch học, sớm là 6h30 muộn là 9h' 'Khoảng 8h-9h' '8 giờ sáng'\n",
      " '5h' '8-9h sáng' '5h30-6h30' 'Mình thường ngủ dậy lúc 6h-6h45' '5am'\n",
      " '7am' '6 giờ sáng' '5 rưỡi sáng ' 'Không cố định' '6 rưỡi / 11h trưa'\n",
      " 'có hôm 7h, có hôm 9h' '6:00' '7-8h sáng ' '7 giờ' '7 giờ ' '9h sáng'\n",
      " '2h chiều']\n"
     ]
    }
   ],
   "source": [
    "print('1. Thuộc tính :', dream['Dậy lúc'].unique())"
   ]
  },
  {
   "cell_type": "code",
   "execution_count": 16,
   "id": "ddeb5e96",
   "metadata": {},
   "outputs": [],
   "source": [
    "dream['Dậy lúc'] = dream['Dậy lúc'].replace('6h30', '6h')\n",
    "dream['Dậy lúc'] = dream['Dậy lúc'].replace('6h sáng ', '6h')\n",
    "dream['Dậy lúc'] = dream['Dậy lúc'].replace('6h15', '6h')\n",
    "dream['Dậy lúc'] = dream['Dậy lúc'].replace('6h sáng', '6h')\n",
    "dream['Dậy lúc'] = dream['Dậy lúc'].replace('6 giờ', '6h')\n",
    "dream['Dậy lúc'] = dream['Dậy lúc'].replace('6h30 sáng', '6h')\n",
    "dream['Dậy lúc'] = dream['Dậy lúc'].replace('6h nếu hôm đấy học từ tiết 1 và 7 rưỡi nếu học từ giữa buổi=)))', '6h')\n",
    "dream['Dậy lúc'] = dream['Dậy lúc'].replace('Tùy vào lịch học, sớm là 6h30 muộn là 9h', '6h')\n",
    "dream['Dậy lúc'] = dream['Dậy lúc'].replace('6 giờ sáng', '6h')\n",
    "dream['Dậy lúc'] = dream['Dậy lúc'].replace('6', '6h')\n",
    "dream['Dậy lúc'] = dream['Dậy lúc'].replace('6 rưỡi / 11h trưa', '6h')\n",
    "dream['Dậy lúc'] = dream['Dậy lúc'].replace('5h', '6h')\n",
    "dream['Dậy lúc'] = dream['Dậy lúc'].replace('5h sáng', '6h')\n",
    "dream['Dậy lúc'] = dream['Dậy lúc'].replace('5h30-6h30', '6h')\n",
    "dream['Dậy lúc'] = dream['Dậy lúc'].replace('5:30', '6h')\n",
    "dream['Dậy lúc'] = dream['Dậy lúc'].replace('5h30', '6h')\n",
    "dream['Dậy lúc'] = dream['Dậy lúc'].replace('5 rưỡi sáng ', '6h')\n",
    "dream['Dậy lúc'] = dream['Dậy lúc'].replace('5am', '6h')\n",
    "dream['Dậy lúc'] = dream['Dậy lúc'].replace('Khoảng 6h hàng ngày', '6h')\n",
    "dream['Dậy lúc'] = dream['Dậy lúc'].replace('Mình thường ngủ dậy lúc 6h-6h45', '6h')\n",
    "dream['Dậy lúc'] = dream['Dậy lúc'].replace('6:00', '6h')\n",
    "dream['Dậy lúc'] = dream['Dậy lúc'].replace('6-7h ', '6h')"
   ]
  },
  {
   "cell_type": "code",
   "execution_count": 17,
   "id": "0cfb1526",
   "metadata": {},
   "outputs": [],
   "source": [
    "dream['Dậy lúc'] = dream['Dậy lúc'].replace('7h30', '7h')\n",
    "dream['Dậy lúc'] = dream['Dậy lúc'].replace('7:00', '7h')\n",
    "dream['Dậy lúc'] = dream['Dậy lúc'].replace('7:30', '7h')\n",
    "dream['Dậy lúc'] = dream['Dậy lúc'].replace('7am', '7h')\n",
    "dream['Dậy lúc'] = dream['Dậy lúc'].replace('6-7h', '7h')\n",
    "dream['Dậy lúc'] = dream['Dậy lúc'].replace('7 giờ', '7h')\n",
    "dream['Dậy lúc'] = dream['Dậy lúc'].replace('7 giờ ', '7h')\n",
    "dream['Dậy lúc'] = dream['Dậy lúc'].replace('có hôm 7h, có hôm 9h', '7h')\n",
    "dream['Dậy lúc'] = dream['Dậy lúc'].replace('7-8h sáng ', '7h')\n",
    "dream['Dậy lúc'] = dream['Dậy lúc'].replace('7h ', '7h')"
   ]
  },
  {
   "cell_type": "code",
   "execution_count": 18,
   "id": "6571b24d",
   "metadata": {},
   "outputs": [],
   "source": [
    "dream['Dậy lúc'] = dream['Dậy lúc'].replace('6h-8h', '8h')\n",
    "dream['Dậy lúc'] = dream['Dậy lúc'].replace('8H', '8h')\n",
    "dream['Dậy lúc'] = dream['Dậy lúc'].replace('8h ', '8h')\n",
    "dream['Dậy lúc'] = dream['Dậy lúc'].replace('8 giờ sáng', '8h')\n",
    "dream['Dậy lúc'] = dream['Dậy lúc'].replace('Khoảng 8h-9h', '8h')\n",
    "dream['Dậy lúc'] = dream['Dậy lúc'].replace('8-9h sáng ', '8h')\n",
    "dream['Dậy lúc'] = dream['Dậy lúc'].replace('7-8h sáng', '8h')"
   ]
  },
  {
   "cell_type": "code",
   "execution_count": 19,
   "id": "d1924c0e",
   "metadata": {},
   "outputs": [],
   "source": [
    "dream['Dậy lúc'] = dream['Dậy lúc'].replace('9:00', '9h')\n",
    "dream['Dậy lúc'] = dream['Dậy lúc'].replace('9g - 9r', '9h')\n",
    "dream['Dậy lúc'] = dream['Dậy lúc'].replace('11h', '9h')\n",
    "dream['Dậy lúc'] = dream['Dậy lúc'].replace('8-9h', '9h')\n",
    "dream['Dậy lúc'] = dream['Dậy lúc'].replace('10h-11h', '9h')\n",
    "dream['Dậy lúc'] = dream['Dậy lúc'].replace('10h', '9h')\n",
    "dream['Dậy lúc'] = dream['Dậy lúc'].replace('9h', '9h')\n",
    "dream['Dậy lúc'] = dream['Dậy lúc'].replace('7h-9h tùy có phải đi học sớm hay k', '9h')\n",
    "dream['Dậy lúc'] = dream['Dậy lúc'].replace('9h sáng', '9h')\n",
    "dream['Dậy lúc'] = dream['Dậy lúc'].replace('2h chiều', '9h')\n",
    "dream['Dậy lúc'] = dream['Dậy lúc'].replace('10 giờ trưa', '9h')\n",
    "dream['Dậy lúc'] = dream['Dậy lúc'].replace('7-9h sáng', '9h')\n",
    "dream['Dậy lúc'] = dream['Dậy lúc'].replace('2h ', '9h')\n",
    "dream['Dậy lúc'] = dream['Dậy lúc'].replace('9h ', '9h')\n",
    "dream['Dậy lúc'] = dream['Dậy lúc'].replace('8-9h sáng', '9h')\n",
    "dream['Dậy lúc'] = dream['Dậy lúc'].replace(10 , '9h')"
   ]
  },
  {
   "cell_type": "code",
   "execution_count": 20,
   "id": "ed2bacc5",
   "metadata": {},
   "outputs": [
    {
     "name": "stdout",
     "output_type": "stream",
     "text": [
      "1. Thuộc tính : ['9h' '7h' '6h' '8h' 'Không cố định']\n"
     ]
    }
   ],
   "source": [
    "print('1. Thuộc tính :', dream['Dậy lúc'].unique())"
   ]
  },
  {
   "cell_type": "code",
   "execution_count": 21,
   "id": "54f7aba2",
   "metadata": {},
   "outputs": [],
   "source": [
    "convert= {'Không cố định': 1,\n",
    "                '6h':2,\n",
    "                '7h':3,\n",
    "                '8h' :4,\n",
    "                 '9h':5\n",
    "                    }\n",
    "dream['Dậy lúc']=dream['Dậy lúc'].map(convert).astype(int)"
   ]
  },
  {
   "cell_type": "code",
   "execution_count": null,
   "id": "4ef26735",
   "metadata": {},
   "outputs": [],
   "source": []
  },
  {
   "cell_type": "code",
   "execution_count": 22,
   "id": "ea1562cf",
   "metadata": {},
   "outputs": [
    {
     "name": "stdout",
     "output_type": "stream",
     "text": [
      "1. Thuộc tính : ['<1 lần/tuần' '≥ 3 lần/tuần' '1-2 lần/tuần' 'Không lần nào']\n"
     ]
    }
   ],
   "source": [
    "print('1. Thuộc tính :', dream['Khó vào giấc'].unique())"
   ]
  },
  {
   "cell_type": "code",
   "execution_count": 23,
   "id": "69a800cf",
   "metadata": {},
   "outputs": [],
   "source": [
    "convert= {'Không lần nào': 1,\n",
    "                '<1 lần/tuần':2,\n",
    "                '1-2 lần/tuần':3,\n",
    "                '≥ 3 lần/tuần':4\n",
    "                    }\n",
    "dream['Khó vào giấc']=dream['Khó vào giấc'].map(convert).astype(int)"
   ]
  },
  {
   "cell_type": "code",
   "execution_count": null,
   "id": "eab41215",
   "metadata": {},
   "outputs": [],
   "source": []
  },
  {
   "cell_type": "code",
   "execution_count": 24,
   "id": "e0073f73",
   "metadata": {},
   "outputs": [
    {
     "name": "stdout",
     "output_type": "stream",
     "text": [
      "1. Thuộc tính : ['Không lần nào' '1-2 lần/tuần' '≥ 3 lần/tuần']\n"
     ]
    }
   ],
   "source": [
    "print('1. Thuộc tính :', dream['Chợt tỉnh giấc'].unique())"
   ]
  },
  {
   "cell_type": "code",
   "execution_count": 25,
   "id": "0e7cec46",
   "metadata": {},
   "outputs": [],
   "source": [
    "convert= {'Không lần nào': 1,\n",
    "                '1-2 lần/tuần':2,\n",
    "                '≥ 3 lần/tuần':3\n",
    "                    }\n",
    "dream['Chợt tỉnh giấc']=dream['Chợt tỉnh giấc'].map(convert).astype(int)"
   ]
  },
  {
   "cell_type": "code",
   "execution_count": null,
   "id": "17904317",
   "metadata": {},
   "outputs": [],
   "source": []
  },
  {
   "cell_type": "code",
   "execution_count": 26,
   "id": "1567046e",
   "metadata": {},
   "outputs": [
    {
     "name": "stdout",
     "output_type": "stream",
     "text": [
      "1. Thuộc tính : ['Không lần nào' '≥ 3 lần/tuần' '1-2 lần/tuần']\n"
     ]
    }
   ],
   "source": [
    "print('1. Thuộc tính :', dream['Đi vệ sinh'].unique())"
   ]
  },
  {
   "cell_type": "code",
   "execution_count": 27,
   "id": "0a3041db",
   "metadata": {},
   "outputs": [],
   "source": [
    "convert= {'Không lần nào': 1,\n",
    "                '1-2 lần/tuần':2,\n",
    "                '≥ 3 lần/tuần':3\n",
    "                    }\n",
    "dream['Đi vệ sinh']=dream['Đi vệ sinh'].map(convert).astype(int)"
   ]
  },
  {
   "cell_type": "code",
   "execution_count": null,
   "id": "43f8a9ea",
   "metadata": {},
   "outputs": [],
   "source": []
  },
  {
   "cell_type": "code",
   "execution_count": 28,
   "id": "f3a97e38",
   "metadata": {},
   "outputs": [
    {
     "name": "stdout",
     "output_type": "stream",
     "text": [
      "1. Thuộc tính : ['Không lần nào' '≥ 3 lần/tuần' '1-2 lần/tuần']\n"
     ]
    }
   ],
   "source": [
    "print('1. Thuộc tính :', dream['Khó thở'].unique())"
   ]
  },
  {
   "cell_type": "code",
   "execution_count": 29,
   "id": "e512b34a",
   "metadata": {},
   "outputs": [],
   "source": [
    "convert= {'Không lần nào': 1,\n",
    "                '1-2 lần/tuần':2,\n",
    "                '≥ 3 lần/tuần':3\n",
    "                    }\n",
    "dream['Khó thở']=dream['Khó thở'].map(convert).astype(int)"
   ]
  },
  {
   "cell_type": "code",
   "execution_count": null,
   "id": "9fd2d0c4",
   "metadata": {},
   "outputs": [],
   "source": []
  },
  {
   "cell_type": "code",
   "execution_count": 30,
   "id": "2040477b",
   "metadata": {},
   "outputs": [
    {
     "name": "stdout",
     "output_type": "stream",
     "text": [
      "1. Thuộc tính : ['Không lần nào' '1-2 lần/tuần' '≥ 3 lần/tuần']\n"
     ]
    }
   ],
   "source": [
    "print('1. Thuộc tính :', dream['Ho hoặc ngáy to'].unique())"
   ]
  },
  {
   "cell_type": "code",
   "execution_count": 31,
   "id": "889f9b51",
   "metadata": {},
   "outputs": [],
   "source": [
    "convert= {'Không lần nào': 1,\n",
    "                '1-2 lần/tuần':2,\n",
    "                '≥ 3 lần/tuần':3\n",
    "                    }\n",
    "dream['Ho hoặc ngáy to']=dream['Ho hoặc ngáy to'].map(convert).astype(int)"
   ]
  },
  {
   "cell_type": "code",
   "execution_count": null,
   "id": "6836e3dd",
   "metadata": {},
   "outputs": [],
   "source": []
  },
  {
   "cell_type": "code",
   "execution_count": 32,
   "id": "3f731603",
   "metadata": {},
   "outputs": [
    {
     "name": "stdout",
     "output_type": "stream",
     "text": [
      "1. Thuộc tính : ['<1 lần/tuần' 'Không lần nào' '1-2 lần/tuần' '≥ 3 lần/tuần']\n"
     ]
    }
   ],
   "source": [
    "print('1. Thuộc tính :', dream['Quá lạnh'].unique())"
   ]
  },
  {
   "cell_type": "code",
   "execution_count": 33,
   "id": "61bd0373",
   "metadata": {},
   "outputs": [],
   "source": [
    "convert= {'Không lần nào': 1,\n",
    "                '<1 lần/tuần':2,\n",
    "                '1-2 lần/tuần':3,\n",
    "          '≥ 3 lần/tuần':4\n",
    "                    }\n",
    "dream['Quá lạnh']=dream['Quá lạnh'].map(convert).astype(int)"
   ]
  },
  {
   "cell_type": "code",
   "execution_count": null,
   "id": "f48a63a6",
   "metadata": {},
   "outputs": [],
   "source": []
  },
  {
   "cell_type": "code",
   "execution_count": 34,
   "id": "82623ac4",
   "metadata": {},
   "outputs": [
    {
     "name": "stdout",
     "output_type": "stream",
     "text": [
      "1. Thuộc tính : ['Không lần nào' '≥ 3 lần/tuần' '1-2 lần/tuần']\n"
     ]
    }
   ],
   "source": [
    "print('1. Thuộc tính :', dream['Quá nóng'].unique())"
   ]
  },
  {
   "cell_type": "code",
   "execution_count": 35,
   "id": "8a9d5ace",
   "metadata": {},
   "outputs": [],
   "source": [
    "convert= {'Không lần nào': 1,\n",
    "                '1-2 lần/tuần':2,\n",
    "                '≥ 3 lần/tuần':3\n",
    "                    }\n",
    "dream['Quá nóng']=dream['Quá nóng'].map(convert).astype(int)"
   ]
  },
  {
   "cell_type": "code",
   "execution_count": null,
   "id": "72524d14",
   "metadata": {},
   "outputs": [],
   "source": []
  },
  {
   "cell_type": "code",
   "execution_count": 36,
   "id": "16495e1d",
   "metadata": {},
   "outputs": [
    {
     "name": "stdout",
     "output_type": "stream",
     "text": [
      "1. Thuộc tính : ['Không lần nào' '≥ 3 lần/tuần' '1-2 lần/tuần']\n"
     ]
    }
   ],
   "source": [
    "print('1. Thuộc tính :', dream['Ác mộng'].unique())"
   ]
  },
  {
   "cell_type": "code",
   "execution_count": 37,
   "id": "6729ec71",
   "metadata": {},
   "outputs": [],
   "source": [
    "convert= {'Không lần nào': 1,\n",
    "                '1-2 lần/tuần':2,\n",
    "                '≥ 3 lần/tuần':3\n",
    "                    }\n",
    "dream['Ác mộng']=dream['Ác mộng'].map(convert).astype(int)"
   ]
  },
  {
   "cell_type": "code",
   "execution_count": null,
   "id": "9d17fe7c",
   "metadata": {},
   "outputs": [],
   "source": []
  },
  {
   "cell_type": "code",
   "execution_count": 38,
   "id": "01e6f521",
   "metadata": {},
   "outputs": [
    {
     "name": "stdout",
     "output_type": "stream",
     "text": [
      "1. Thuộc tính : ['1-2 lần/tuần' 'Không lần nào' '≥ 3 lần/tuần']\n"
     ]
    }
   ],
   "source": [
    "print('1. Thuộc tính :', dream['Cơ thể đau nhức'].unique())"
   ]
  },
  {
   "cell_type": "code",
   "execution_count": 39,
   "id": "1d9b2a1d",
   "metadata": {},
   "outputs": [],
   "source": [
    "convert= {'Không lần nào': 1,\n",
    "                '1-2 lần/tuần':2,\n",
    "                '≥ 3 lần/tuần':3\n",
    "                    }\n",
    "dream['Cơ thể đau nhức']=dream['Cơ thể đau nhức'].map(convert).astype(int)"
   ]
  },
  {
   "cell_type": "code",
   "execution_count": null,
   "id": "a3cc8569",
   "metadata": {},
   "outputs": [],
   "source": []
  },
  {
   "cell_type": "code",
   "execution_count": 40,
   "id": "2b40a112",
   "metadata": {},
   "outputs": [
    {
     "name": "stdout",
     "output_type": "stream",
     "text": [
      "1. Thuộc tính : ['Không lần nào' '1-2 lần/tuần' '≥ 3 lần/tuần']\n"
     ]
    }
   ],
   "source": [
    "print('1. Thuộc tính :', dream['Lý do khác'].unique())"
   ]
  },
  {
   "cell_type": "code",
   "execution_count": 41,
   "id": "650ac069",
   "metadata": {},
   "outputs": [],
   "source": [
    "convert= {'Không lần nào': 1,\n",
    "                '1-2 lần/tuần':2,\n",
    "                '≥ 3 lần/tuần':3\n",
    "                    }\n",
    "dream['Lý do khác']=dream['Lý do khác'].map(convert).astype(int)"
   ]
  },
  {
   "cell_type": "code",
   "execution_count": null,
   "id": "e390b086",
   "metadata": {},
   "outputs": [],
   "source": []
  },
  {
   "cell_type": "code",
   "execution_count": 42,
   "id": "4d267f5a",
   "metadata": {},
   "outputs": [
    {
     "name": "stdout",
     "output_type": "stream",
     "text": [
      "1. Thuộc tính : ['Rất tốt' 'Rất tệ' 'Tốt' 'Tệ']\n"
     ]
    }
   ],
   "source": [
    "print('1. Thuộc tính :', dream['Chất lượng giấc ngủ'].unique())"
   ]
  },
  {
   "cell_type": "code",
   "execution_count": 43,
   "id": "6bd573e4",
   "metadata": {},
   "outputs": [],
   "source": [
    "convert= {'Rất tệ': 1,\n",
    "                'Tệ':2,\n",
    "                'Tốt':3,\n",
    "          'Rất tốt':4\n",
    "                    }\n",
    "dream['Chất lượng giấc ngủ']=dream['Chất lượng giấc ngủ'].map(convert).astype(int)"
   ]
  },
  {
   "cell_type": "code",
   "execution_count": null,
   "id": "71b05483",
   "metadata": {},
   "outputs": [],
   "source": []
  },
  {
   "cell_type": "code",
   "execution_count": 44,
   "id": "bd872507",
   "metadata": {},
   "outputs": [
    {
     "name": "stdout",
     "output_type": "stream",
     "text": [
      "1. Thuộc tính : ['Không lần nào' '>3 lần/tuần' '1-2 lần/tuần']\n"
     ]
    }
   ],
   "source": [
    "print('1. Thuộc tính :', dream['Dùng thuốc'].unique())"
   ]
  },
  {
   "cell_type": "code",
   "execution_count": 45,
   "id": "a8b43bdc",
   "metadata": {},
   "outputs": [],
   "source": [
    "convert= {'Không lần nào': 1,\n",
    "                '1-2 lần/tuần':2,\n",
    "                '>3 lần/tuần':3\n",
    "                    }\n",
    "dream['Dùng thuốc']=dream['Dùng thuốc'].map(convert).astype(int)"
   ]
  },
  {
   "cell_type": "code",
   "execution_count": null,
   "id": "675a98fc",
   "metadata": {},
   "outputs": [],
   "source": []
  },
  {
   "cell_type": "code",
   "execution_count": 46,
   "id": "680d6369",
   "metadata": {},
   "outputs": [
    {
     "name": "stdout",
     "output_type": "stream",
     "text": [
      "1. Thuộc tính : ['Không lần nào' '1-2 lần/tuần' '>3 lần/tuần']\n"
     ]
    }
   ],
   "source": [
    "print('1. Thuộc tính :', dream['Không tỉnh táo'].unique())"
   ]
  },
  {
   "cell_type": "code",
   "execution_count": 47,
   "id": "122e9fd0",
   "metadata": {},
   "outputs": [],
   "source": [
    "convert= {'Không lần nào': 1,\n",
    "                '1-2 lần/tuần':2,\n",
    "                '>3 lần/tuần':3\n",
    "                    }\n",
    "dream['Không tỉnh táo']=dream['Không tỉnh táo'].map(convert).astype(int)"
   ]
  },
  {
   "cell_type": "code",
   "execution_count": null,
   "id": "ae6dea38",
   "metadata": {},
   "outputs": [],
   "source": []
  },
  {
   "cell_type": "code",
   "execution_count": 48,
   "id": "2a6d7c2d",
   "metadata": {},
   "outputs": [
    {
     "name": "stdout",
     "output_type": "stream",
     "text": [
      "1. Thuộc tính : ['Khá có vấn đề' 'Rất có vấn đề' 'Có một chút vấn đề' 'Không có vấn đề gì']\n"
     ]
    }
   ],
   "source": [
    "print('1. Thuộc tính :', dream['Động lực'].unique())"
   ]
  },
  {
   "cell_type": "code",
   "execution_count": 49,
   "id": "919f43f2",
   "metadata": {},
   "outputs": [],
   "source": [
    "convert= {'Không có vấn đề gì': 1,\n",
    "                'Có một chút vấn đề':2,\n",
    "                'Khá có vấn đề':3,\n",
    "          'Rất có vấn đề':4\n",
    "                    }\n",
    "dream['Động lực']=dream['Động lực'].map(convert).astype(int)"
   ]
  },
  {
   "cell_type": "code",
   "execution_count": null,
   "id": "2a8316a0",
   "metadata": {},
   "outputs": [],
   "source": []
  },
  {
   "cell_type": "code",
   "execution_count": 50,
   "id": "17b04f68",
   "metadata": {},
   "outputs": [
    {
     "name": "stdout",
     "output_type": "stream",
     "text": [
      "1. Thuộc tính : ['Không' 'Có']\n"
     ]
    }
   ],
   "source": [
    "print('1. Thuộc tính :', dream['Đi làm ca đêm'].unique())"
   ]
  },
  {
   "cell_type": "code",
   "execution_count": 51,
   "id": "2b860a73",
   "metadata": {},
   "outputs": [],
   "source": [
    "convert= {'Không': 1,\n",
    "                'Có':2\n",
    "                    }\n",
    "dream['Đi làm ca đêm']=dream['Đi làm ca đêm'].map(convert).astype(int)"
   ]
  },
  {
   "cell_type": "code",
   "execution_count": null,
   "id": "09c33796",
   "metadata": {},
   "outputs": [],
   "source": []
  },
  {
   "cell_type": "code",
   "execution_count": 52,
   "id": "65f84749",
   "metadata": {},
   "outputs": [
    {
     "name": "stdout",
     "output_type": "stream",
     "text": [
      "1. Thuộc tính : ['Điện thoại di động, Máy tính (để bàn/xách tay)' 'Điện thoại di động'\n",
      " 'Tôi không sử dụng thiết bị điện tử trong thời gian này'\n",
      " 'Máy tính (để bàn/xách tay)'\n",
      " 'Điện thoại di động, Máy tính (để bàn/xách tay), TV, Máy nghe nhạc'\n",
      " 'Điện thoại di động, Máy tính (để bàn/xách tay), Máy nghe nhạc'\n",
      " 'Điện thoại di động, Máy tính (để bàn/xách tay), TV' 'Máy nghe nhạc'\n",
      " 'Máy tính (để bàn/xách tay), TV' 'Điện thoại di động, Máy nghe nhạc']\n"
     ]
    }
   ],
   "source": [
    "print('1. Thuộc tính :', dream['Thiết bị điện tử'].unique())"
   ]
  },
  {
   "cell_type": "code",
   "execution_count": 53,
   "id": "736ef81f",
   "metadata": {},
   "outputs": [],
   "source": [
    "dream['Thiết bị điện tử'] = dream['Thiết bị điện tử'].replace('Tôi không sử dụng thiết bị điện tử trong thời gian này', 'Không')\n",
    "dream['Thiết bị điện tử'] = dream['Thiết bị điện tử'].replace('Điện thoại di động', 'Có')\n",
    "dream['Thiết bị điện tử'] = dream['Thiết bị điện tử'].replace('Máy tính (để bàn/xách tay)', 'Có')\n",
    "dream['Thiết bị điện tử'] = dream['Thiết bị điện tử'].replace('Máy nghe nhạc', 'Có')\n",
    "dream['Thiết bị điện tử'] = dream['Thiết bị điện tử'].replace('Máy tính (để bàn/xách tay)', 'Có')\n",
    "dream['Thiết bị điện tử'] = dream['Thiết bị điện tử'].replace('Điện thoại di động, Máy tính (để bàn/xách tay)', 'Có')\n",
    "dream['Thiết bị điện tử'] = dream['Thiết bị điện tử'].replace('Điện thoại di động, Máy tính (để bàn/xách tay), TV, Máy nghe nhạc', 'Có')\n",
    "dream['Thiết bị điện tử'] = dream['Thiết bị điện tử'].replace('Điện thoại di động, Máy tính (để bàn/xách tay), Máy nghe nhạc', 'Có')\n",
    "dream['Thiết bị điện tử'] = dream['Thiết bị điện tử'].replace('Điện thoại di động, Máy tính (để bàn/xách tay), TV', 'Có')\n",
    "dream['Thiết bị điện tử'] = dream['Thiết bị điện tử'].replace('Máy tính (để bàn/xách tay), TV', 'Có')\n",
    "dream['Thiết bị điện tử'] = dream['Thiết bị điện tử'].replace('Điện thoại di động, Máy nghe nhạc', 'Có')\n"
   ]
  },
  {
   "cell_type": "code",
   "execution_count": 54,
   "id": "c047b841",
   "metadata": {},
   "outputs": [],
   "source": [
    "convert= {'Không': 1,\n",
    "                'Có':2\n",
    "                    }\n",
    "dream['Thiết bị điện tử']=dream['Thiết bị điện tử'].map(convert).astype(int)"
   ]
  },
  {
   "cell_type": "code",
   "execution_count": null,
   "id": "afd83553",
   "metadata": {},
   "outputs": [],
   "source": []
  },
  {
   "cell_type": "code",
   "execution_count": 55,
   "id": "e2feb7d9",
   "metadata": {},
   "outputs": [
    {
     "name": "stdout",
     "output_type": "stream",
     "text": [
      "1. Thuộc tính : ['>2' '1-2h' '<1h']\n"
     ]
    }
   ],
   "source": [
    "print('1. Thuộc tính :', dream['Thời gian sử dụng'].unique())"
   ]
  },
  {
   "cell_type": "code",
   "execution_count": 56,
   "id": "88c040f4",
   "metadata": {},
   "outputs": [],
   "source": [
    "convert= {'<1h': 1,\n",
    "                '1-2h':2,\n",
    "                '>2':3\n",
    "                    }\n",
    "dream['Thời gian sử dụng']=dream['Thời gian sử dụng'].map(convert).astype(int)"
   ]
  },
  {
   "cell_type": "code",
   "execution_count": null,
   "id": "4ae35c46",
   "metadata": {},
   "outputs": [],
   "source": []
  },
  {
   "cell_type": "code",
   "execution_count": 57,
   "id": "5ab6372b",
   "metadata": {},
   "outputs": [],
   "source": [
    "dream['Chất kích thích'] = dream['Chất kích thích'].replace('Khác:, Tôi không sử dụng chất kích thích', 'Tôi không sử dụng chất kích thích')\n",
    "dream['Chất kích thích'] = dream['Chất kích thích'].replace('Cà phê, Nước ngọt có ga, nước tăng lực, Khác:', 'Cà phê, Nước ngọt có ga, nước tăng lực')"
   ]
  },
  {
   "cell_type": "code",
   "execution_count": 58,
   "id": "828cb5d0",
   "metadata": {},
   "outputs": [
    {
     "name": "stdout",
     "output_type": "stream",
     "text": [
      "1. Thuộc tính : ['Trà, Cà phê' 'Trà, Nước ngọt có ga, nước tăng lực'\n",
      " 'Tôi không sử dụng chất kích thích'\n",
      " 'Trà, Cà phê, Nước ngọt có ga, nước tăng lực' 'Trà' 'Khác:' 'Cà phê'\n",
      " 'Cà phê, Nước ngọt có ga, nước tăng lực'\n",
      " 'Trà, Cà phê, Thuốc lá, thuốc lá điện tử'\n",
      " 'Cà phê, Thuốc lá, thuốc lá điện tử'\n",
      " 'Trà, Tôi không sử dụng chất kích thích' 'Nước ngọt có ga, nước tăng lực'\n",
      " 'Thuốc lá, thuốc lá điện tử'\n",
      " 'Cà phê, Bia, rượu, Nước ngọt có ga, nước tăng lực'\n",
      " 'Thuốc lá, thuốc lá điện tử, Khác:'\n",
      " 'Trà, Thuốc lá, thuốc lá điện tử, Bia, rượu']\n"
     ]
    }
   ],
   "source": [
    "print('1. Thuộc tính :', dream['Chất kích thích'].unique())"
   ]
  },
  {
   "cell_type": "code",
   "execution_count": 59,
   "id": "e57e10d7",
   "metadata": {},
   "outputs": [],
   "source": [
    "dream['Chất kích thích'] = dream['Chất kích thích'].replace('Tôi không sử dụng chất kích thích', 'Không')\n",
    "dream['Chất kích thích'] = dream['Chất kích thích'].replace('Trà, Tôi không sử dụng chất kích thích', 'Không')\n",
    "\n",
    "dream['Chất kích thích'] = dream['Chất kích thích'].replace('Trà, Cà phê', 'Có')\n",
    "dream['Chất kích thích'] = dream['Chất kích thích'].replace('Trà, Nước ngọt có ga, nước tăng lực', 'Có')\n",
    "dream['Chất kích thích'] = dream['Chất kích thích'].replace('Cà phê', 'Có')\n",
    "dream['Chất kích thích'] = dream['Chất kích thích'].replace('Trà, Cà phê, Nước ngọt có ga, nước tăng lực', 'Có')\n",
    "dream['Chất kích thích'] = dream['Chất kích thích'].replace('Trà', 'Có')\n",
    "dream['Chất kích thích'] = dream['Chất kích thích'].replace('Cà phê, Nước ngọt có ga, nước tăng lực', 'Có')\n",
    "dream['Chất kích thích'] = dream['Chất kích thích'].replace('Trà, Cà phê, Thuốc lá, thuốc lá điện tử', 'Có')\n",
    "dream['Chất kích thích'] = dream['Chất kích thích'].replace('Nước ngọt có ga, nước tăng lực', 'Có')\n",
    "dream['Chất kích thích'] = dream['Chất kích thích'].replace('Điện thoại di động, Máy nghe nhạc', 'Có')\n",
    "dream['Chất kích thích'] = dream['Chất kích thích'].replace('Thuốc lá, thuốc lá điện tử', 'Có')\n",
    "dream['Chất kích thích'] = dream['Chất kích thích'].replace('Cà phê, Bia, rượu, Nước ngọt có ga, nước tăng lực', 'Có')\n",
    "dream['Chất kích thích'] = dream['Chất kích thích'].replace('Thuốc lá, thuốc lá điện tử, Khác', 'Có')\n",
    "dream['Chất kích thích'] = dream['Chất kích thích'].replace('Cà phê, Thuốc lá, thuốc lá điện tử', 'Có')\n",
    "dream['Chất kích thích'] = dream['Chất kích thích'].replace('Trà, Thuốc lá, thuốc lá điện tử, Bia, rượu', 'Có')\n",
    "dream['Chất kích thích'] = dream['Chất kích thích'].replace('Khác', 'Có')\n",
    "dream['Chất kích thích'] = dream['Chất kích thích'].replace('Thuốc lá, thuốc lá điện tử, Khác:', 'Có')\n",
    "dream['Chất kích thích'] = dream['Chất kích thích'].replace('Khác:', 'Có')"
   ]
  },
  {
   "cell_type": "code",
   "execution_count": 60,
   "id": "6fe923e6",
   "metadata": {},
   "outputs": [
    {
     "name": "stdout",
     "output_type": "stream",
     "text": [
      "1. Thuộc tính : ['Có' 'Không']\n"
     ]
    }
   ],
   "source": [
    "print('1. Thuộc tính :', dream['Chất kích thích'].unique())"
   ]
  },
  {
   "cell_type": "code",
   "execution_count": 61,
   "id": "f462ae2a",
   "metadata": {},
   "outputs": [],
   "source": [
    "convert= {'Không': 1,\n",
    "                'Có':2\n",
    "                    }\n",
    "dream['Chất kích thích']=dream['Chất kích thích'].map(convert).astype(int)"
   ]
  },
  {
   "cell_type": "code",
   "execution_count": null,
   "id": "c9c3d382",
   "metadata": {},
   "outputs": [],
   "source": []
  },
  {
   "cell_type": "code",
   "execution_count": 62,
   "id": "0876d20e",
   "metadata": {},
   "outputs": [
    {
     "name": "stdout",
     "output_type": "stream",
     "text": [
      "1. Thuộc tính : ['Dưới 1 tiếng' 'Từ 1-3 tiếng' '3-5 tiếng' 'Trên 8 tiếng' '5-8 tiếng']\n"
     ]
    }
   ],
   "source": [
    "print('1. Thuộc tính :', dream['Vận động'].unique())"
   ]
  },
  {
   "cell_type": "code",
   "execution_count": 63,
   "id": "a39c0076",
   "metadata": {},
   "outputs": [],
   "source": [
    "convert= {'Dưới 1 tiếng': 1,\n",
    "                'Từ 1-3 tiếng':2,\n",
    "                '3-5 tiếng':3,\n",
    "          '5-8 tiếng':4,\n",
    "          'Trên 8 tiếng':5\n",
    "                    }\n",
    "dream['Vận động']=dream['Vận động'].map(convert).astype(int)"
   ]
  },
  {
   "cell_type": "code",
   "execution_count": null,
   "id": "aa851e1d",
   "metadata": {},
   "outputs": [],
   "source": []
  },
  {
   "cell_type": "code",
   "execution_count": 64,
   "id": "d4914d7b",
   "metadata": {},
   "outputs": [
    {
     "name": "stdout",
     "output_type": "stream",
     "text": [
      "1. Thuộc tính : ['>2h' '30p-1h' 'Không ngủ trưa' '1-2h' '<30 phút']\n"
     ]
    }
   ],
   "source": [
    "print('1. Thuộc tính :', dream['Ngủ trưa'].unique())"
   ]
  },
  {
   "cell_type": "code",
   "execution_count": 65,
   "id": "3bc78e13",
   "metadata": {},
   "outputs": [],
   "source": [
    "convert= {'Không ngủ trưa': 1,\n",
    "                '<30 phút':2,\n",
    "                '30p-1h':3,\n",
    "          '1-2h':4,\n",
    "          '>2h':5\n",
    "                    }\n",
    "dream['Ngủ trưa']=dream['Ngủ trưa'].map(convert).astype(int)"
   ]
  },
  {
   "cell_type": "code",
   "execution_count": null,
   "id": "50c0aecc",
   "metadata": {},
   "outputs": [],
   "source": []
  },
  {
   "cell_type": "code",
   "execution_count": 66,
   "id": "4f484d34",
   "metadata": {},
   "outputs": [
    {
     "name": "stdout",
     "output_type": "stream",
     "text": [
      "1. Thuộc tính : ['Thỉnh thoảng mới đúng' 'Hoàn toàn đúng với tôi'\n",
      " 'Phần lớn thời gian là đúng' 'Không đúng với tôi chút nào cả']\n"
     ]
    }
   ],
   "source": [
    "print('1. Thuộc tính :', dream['Tiêu cực'].unique())"
   ]
  },
  {
   "cell_type": "code",
   "execution_count": 67,
   "id": "0c7e4202",
   "metadata": {},
   "outputs": [],
   "source": [
    "convert= {'Không đúng với tôi chút nào cả': 1,\n",
    "                'Thỉnh thoảng mới đúng':2,\n",
    "                'Phần lớn thời gian là đúng':3,\n",
    "          'Hoàn toàn đúng với tôi':4\n",
    "                    }\n",
    "dream['Tiêu cực']=dream['Tiêu cực'].map(convert).astype(int)"
   ]
  },
  {
   "cell_type": "code",
   "execution_count": null,
   "id": "2449a36c",
   "metadata": {},
   "outputs": [],
   "source": []
  },
  {
   "cell_type": "code",
   "execution_count": 68,
   "id": "ddc723ab",
   "metadata": {},
   "outputs": [
    {
     "name": "stdout",
     "output_type": "stream",
     "text": [
      "1. Thuộc tính : ['Phần lớn thời gian là đúng' 'Thỉnh thoảng mới đúng'\n",
      " 'Không đúng với tôi chút nào cả' 'Hoàn toàn đúng với tôi']\n"
     ]
    }
   ],
   "source": [
    "print('1. Thuộc tính :', dream['Lười làm'].unique())"
   ]
  },
  {
   "cell_type": "code",
   "execution_count": 69,
   "id": "775e7312",
   "metadata": {},
   "outputs": [],
   "source": [
    "convert= {'Không đúng với tôi chút nào cả': 1,\n",
    "                'Thỉnh thoảng mới đúng':2,\n",
    "                'Phần lớn thời gian là đúng':3,\n",
    "          'Hoàn toàn đúng với tôi':4\n",
    "                    }\n",
    "dream['Lười làm']=dream['Lười làm'].map(convert).astype(int)"
   ]
  },
  {
   "cell_type": "code",
   "execution_count": null,
   "id": "c5bdc6c6",
   "metadata": {},
   "outputs": [],
   "source": []
  },
  {
   "cell_type": "code",
   "execution_count": 70,
   "id": "a2f55112",
   "metadata": {},
   "outputs": [
    {
     "name": "stdout",
     "output_type": "stream",
     "text": [
      "1. Thuộc tính : ['Thỉnh thoảng mới đúng' 'Phần lớn thời gian là đúng'\n",
      " 'Không đúng với tôi chút nào cả' 'Hoàn toàn đúng với tôi']\n"
     ]
    }
   ],
   "source": [
    "print('1. Thuộc tính :', dream['Thái quá'].unique())"
   ]
  },
  {
   "cell_type": "code",
   "execution_count": 71,
   "id": "1b050422",
   "metadata": {},
   "outputs": [],
   "source": [
    "convert= {'Không đúng với tôi chút nào cả': 1,\n",
    "                'Thỉnh thoảng mới đúng':2,\n",
    "                'Phần lớn thời gian là đúng':3,\n",
    "          'Hoàn toàn đúng với tôi':4\n",
    "                    }\n",
    "dream['Thái quá']=dream['Thái quá'].map(convert).astype(int)"
   ]
  },
  {
   "cell_type": "code",
   "execution_count": null,
   "id": "e4971de1",
   "metadata": {},
   "outputs": [],
   "source": []
  },
  {
   "cell_type": "code",
   "execution_count": 72,
   "id": "be6e2b7d",
   "metadata": {},
   "outputs": [
    {
     "name": "stdout",
     "output_type": "stream",
     "text": [
      "1. Thuộc tính : ['Phần lớn thời gian là đúng' 'Hoàn toàn đúng với tôi'\n",
      " 'Thỉnh thoảng mới đúng' 'Không đúng với tôi chút nào cả']\n"
     ]
    }
   ],
   "source": [
    "print('1. Thuộc tính :', dream['Nghĩ nhiều'].unique())"
   ]
  },
  {
   "cell_type": "code",
   "execution_count": 73,
   "id": "9c4bb13e",
   "metadata": {},
   "outputs": [],
   "source": [
    "convert= {'Không đúng với tôi chút nào cả': 1,\n",
    "                'Thỉnh thoảng mới đúng':2,\n",
    "                'Phần lớn thời gian là đúng':3,\n",
    "          'Hoàn toàn đúng với tôi':4\n",
    "                    }\n",
    "dream['Nghĩ nhiều']=dream['Nghĩ nhiều'].map(convert).astype(int)"
   ]
  },
  {
   "cell_type": "code",
   "execution_count": null,
   "id": "2e6d7346",
   "metadata": {},
   "outputs": [],
   "source": []
  },
  {
   "cell_type": "code",
   "execution_count": 74,
   "id": "b357590d",
   "metadata": {},
   "outputs": [
    {
     "name": "stdout",
     "output_type": "stream",
     "text": [
      "1. Thuộc tính : ['Thỉnh thoảng mới đúng' 'Phần lớn thời gian là đúng'\n",
      " 'Không đúng với tôi chút nào cả' 'Hoàn toàn đúng với tôi']\n"
     ]
    }
   ],
   "source": [
    "print('1. Thuộc tính :', dream['Nóng vội'].unique())"
   ]
  },
  {
   "cell_type": "code",
   "execution_count": 75,
   "id": "b774724d",
   "metadata": {},
   "outputs": [],
   "source": [
    "convert= {'Không đúng với tôi chút nào cả': 1,\n",
    "                'Thỉnh thoảng mới đúng':2,\n",
    "                'Phần lớn thời gian là đúng':3,\n",
    "          'Hoàn toàn đúng với tôi':4\n",
    "                    }\n",
    "dream['Nóng vội']=dream['Nóng vội'].map(convert).astype(int)"
   ]
  },
  {
   "cell_type": "code",
   "execution_count": null,
   "id": "bc27a354",
   "metadata": {},
   "outputs": [],
   "source": []
  },
  {
   "cell_type": "code",
   "execution_count": 76,
   "id": "e1f21ce9",
   "metadata": {},
   "outputs": [
    {
     "name": "stdout",
     "output_type": "stream",
     "text": [
      "1. Thuộc tính : ['Không đúng với tôi chút nào cả' 'Hoàn toàn đúng với tôi'\n",
      " 'Thỉnh thoảng mới đúng' 'Phần lớn thời gian là đúng']\n"
     ]
    }
   ],
   "source": [
    "print('1. Thuộc tính :', dream['Tự ái'].unique())"
   ]
  },
  {
   "cell_type": "code",
   "execution_count": 77,
   "id": "291fc68a",
   "metadata": {},
   "outputs": [],
   "source": [
    "convert= {'Không đúng với tôi chút nào cả': 1,\n",
    "                'Thỉnh thoảng mới đúng':2,\n",
    "                'Phần lớn thời gian là đúng':3,\n",
    "          'Hoàn toàn đúng với tôi':4\n",
    "                    }\n",
    "dream['Tự ái']=dream['Tự ái'].map(convert).astype(int)"
   ]
  },
  {
   "cell_type": "code",
   "execution_count": null,
   "id": "42cda4cd",
   "metadata": {},
   "outputs": [],
   "source": []
  },
  {
   "cell_type": "code",
   "execution_count": 78,
   "id": "837628f8",
   "metadata": {},
   "outputs": [
    {
     "name": "stdout",
     "output_type": "stream",
     "text": [
      "1. Thuộc tính : ['Hoàn toàn đúng với tôi' 'Thỉnh thoảng mới đúng'\n",
      " 'Phần lớn thời gian là đúng' 'Không đúng với tôi chút nào cả']\n"
     ]
    }
   ],
   "source": [
    "print('1. Thuộc tính :', dream['Cáu'].unique())"
   ]
  },
  {
   "cell_type": "code",
   "execution_count": 79,
   "id": "793bd14d",
   "metadata": {},
   "outputs": [],
   "source": [
    "convert= {'Không đúng với tôi chút nào cả': 1,\n",
    "                'Thỉnh thoảng mới đúng':2,\n",
    "                'Phần lớn thời gian là đúng':3,\n",
    "          'Hoàn toàn đúng với tôi':4\n",
    "                    }\n",
    "dream['Cáu']=dream['Cáu'].map(convert).astype(int)"
   ]
  },
  {
   "cell_type": "code",
   "execution_count": null,
   "id": "0b4630cb",
   "metadata": {},
   "outputs": [],
   "source": []
  },
  {
   "cell_type": "code",
   "execution_count": 80,
   "id": "2a35da89",
   "metadata": {},
   "outputs": [
    {
     "name": "stdout",
     "output_type": "stream",
     "text": [
      "1. Thuộc tính : ['Thỉnh thoảng mới đúng' 'Hoàn toàn đúng với tôi'\n",
      " 'Không đúng với tôi chút nào cả' 'Phần lớn thời gian là đúng']\n"
     ]
    }
   ],
   "source": [
    "print('1. Thuộc tính :', dream['Thiếu động lực'].unique())"
   ]
  },
  {
   "cell_type": "code",
   "execution_count": 81,
   "id": "0ca3b776",
   "metadata": {},
   "outputs": [],
   "source": [
    "convert= {'Không đúng với tôi chút nào cả': 1,\n",
    "                'Thỉnh thoảng mới đúng':2,\n",
    "                'Phần lớn thời gian là đúng':3,\n",
    "          'Hoàn toàn đúng với tôi':4\n",
    "                    }\n",
    "dream['Thiếu động lực']=dream['Thiếu động lực'].map(convert).astype(int)"
   ]
  },
  {
   "cell_type": "code",
   "execution_count": null,
   "id": "afcde4b3",
   "metadata": {},
   "outputs": [],
   "source": []
  },
  {
   "cell_type": "code",
   "execution_count": 82,
   "id": "7ab467bf",
   "metadata": {},
   "outputs": [
    {
     "name": "stdout",
     "output_type": "stream",
     "text": [
      "1. Thuộc tính : ['Không đúng với tôi chút nào cả' 'Hoàn toàn đúng với tôi'\n",
      " 'Thỉnh thoảng mới đúng' 'Phần lớn thời gian là đúng']\n"
     ]
    }
   ],
   "source": [
    "print('1. Thuộc tính :', dream['Vô nghĩa'].unique())"
   ]
  },
  {
   "cell_type": "code",
   "execution_count": 83,
   "id": "8ec88221",
   "metadata": {},
   "outputs": [],
   "source": [
    "convert= {'Không đúng với tôi chút nào cả': 1,\n",
    "                'Thỉnh thoảng mới đúng':2,\n",
    "                'Phần lớn thời gian là đúng':3,\n",
    "          'Hoàn toàn đúng với tôi':4\n",
    "                    }\n",
    "dream['Vô nghĩa']=dream['Vô nghĩa'].map(convert).astype(int)"
   ]
  },
  {
   "cell_type": "code",
   "execution_count": null,
   "id": "9a37357e",
   "metadata": {},
   "outputs": [],
   "source": []
  },
  {
   "cell_type": "code",
   "execution_count": 84,
   "id": "4209daf1",
   "metadata": {},
   "outputs": [
    {
     "name": "stdout",
     "output_type": "stream",
     "text": [
      "1. Thuộc tính : ['Không đúng với tôi chút nào cả' 'Hoàn toàn đúng với tôi'\n",
      " 'Thỉnh thoảng mới đúng' 'Phần lớn thời gian là đúng']\n"
     ]
    }
   ],
   "source": [
    "print('1. Thuộc tính :', dream['Lo sợ'].unique())"
   ]
  },
  {
   "cell_type": "code",
   "execution_count": 85,
   "id": "ebfb9f1b",
   "metadata": {},
   "outputs": [],
   "source": [
    "convert= {'Không đúng với tôi chút nào cả': 1,\n",
    "                'Thỉnh thoảng mới đúng':2,\n",
    "                'Phần lớn thời gian là đúng':3,\n",
    "          'Hoàn toàn đúng với tôi':4\n",
    "                    }\n",
    "dream['Lo sợ']=dream['Lo sợ'].map(convert).astype(int)"
   ]
  },
  {
   "cell_type": "code",
   "execution_count": null,
   "id": "dad67736",
   "metadata": {},
   "outputs": [],
   "source": []
  },
  {
   "cell_type": "code",
   "execution_count": 86,
   "id": "b14a9bd6",
   "metadata": {},
   "outputs": [
    {
     "name": "stdout",
     "output_type": "stream",
     "text": [
      "1. Thuộc tính : ['Có, đó là: (điền vào other), đèn ngủ' 'Không'\n",
      " 'Có, đó là: (điền vào other), Không rõ'\n",
      " 'Có, đó là: (điền vào other), Ánh sáng phòng ngủ'\n",
      " 'Có, đó là: (điền vào other), Đèn ngủ' 'Không rõ'\n",
      " 'Có, đó là: (điền vào other)' 'Có, đó là: (điền vào other), Không, '\n",
      " 'Có, đó là: (điền vào other), Ánh sáng mặt trời'\n",
      " 'Ánh sáng điện thoại của bạn cùng phòng'\n",
      " 'Có, đó là: (điền vào other), Ánh sáng từ bên ngoài cửa sổ'\n",
      " 'Có, đó là: (điền vào other), Tiếng ồn, ánh sáng buổi sáng'\n",
      " 'Có, đó là: (điền vào other), Điện hành lang '\n",
      " 'Có, đó là: (điền vào other), Đèn đường từ cửa sổ rọi vào'\n",
      " 'Có, đó là: (điền vào other), Ánh sáng từ thiết bị điện tử của những bạn cùng phòng chưa đi ngủ'\n",
      " 'Có, đó là: (điền vào other), Tất cả' 'đèn đường'\n",
      " 'Có, đó là: (điền vào other), Đèn học'\n",
      " 'Có, đó là: (điền vào other), Điện thoại của đứa bên cạnh'\n",
      " 'Có, đó là: (điền vào other), Ánh nắng mặt trời'\n",
      " 'Có, đó là: (điền vào other), Ánh sáng đèn đường '\n",
      " 'Có, đó là: (điền vào other), Ánh sáng mặt trời, ánh đèn '\n",
      " 'Có, đó là: (điền vào other), Ánh nắng, đèn phòng '\n",
      " 'Có, đó là: (điền vào other), Nắng'\n",
      " 'Có, đó là: (điền vào other), đèn phòng ' 'điện']\n"
     ]
    }
   ],
   "source": [
    "print('1. Thuộc tính :', dream['Ánh sáng'].unique())"
   ]
  },
  {
   "cell_type": "code",
   "execution_count": 87,
   "id": "307a1f92",
   "metadata": {},
   "outputs": [],
   "source": [
    "dream['Ánh sáng'] = dream['Ánh sáng'].replace('Có, đó là: (điền vào other), đèn ngủ', 'Ánh sáng trong phòng')\n",
    "dream['Ánh sáng'] = dream['Ánh sáng'].replace('Có, đó là: (điền vào other), Ánh sáng phòng ngủ', 'Ánh sáng trong phòng')\n",
    "dream['Ánh sáng'] = dream['Ánh sáng'].replace('Có, đó là: (điền vào other), Đèn ngủ', 'Ánh sáng trong phòng')\n",
    "dream['Ánh sáng'] = dream['Ánh sáng'].replace('Ánh sáng điện thoại của bạn cùng phòng', 'Ánh sáng trong phòng')\n",
    "dream['Ánh sáng'] = dream['Ánh sáng'].replace('Có, đó là: (điền vào other), Điện hành lang ', 'Ánh sáng trong phòng')\n",
    "dream['Ánh sáng'] = dream['Ánh sáng'].replace('Có, đó là: (điền vào other), Đèn đường từ cửa sổ rọi vào', 'Ánh sáng trong phòng')\n",
    "dream['Ánh sáng'] = dream['Ánh sáng'].replace('Có, đó là: (điền vào other), Ánh sáng từ thiết bị điện tử của những bạn cùng phòng chưa đi ngủ', 'Ánh sáng trong phòng')\n",
    "dream['Ánh sáng'] = dream['Ánh sáng'].replace('Có, đó là: (điền vào other), Tất cả' 'đèn đường', 'Ánh sáng trong phòng')\n",
    "dream['Ánh sáng'] = dream['Ánh sáng'].replace('Có, đó là: (điền vào other), Đèn học', 'Ánh sáng trong phòng')\n",
    "dream['Ánh sáng'] = dream['Ánh sáng'].replace('Có, đó là: (điền vào other), Điện thoại của đứa bên cạnh', 'Ánh sáng trong phòng')\n",
    "dream['Ánh sáng'] = dream['Ánh sáng'].replace('Có, đó là: (điền vào other), Ánh sáng đèn đường ', 'Ánh sáng trong phòng')\n",
    "dream['Ánh sáng'] = dream['Ánh sáng'].replace('Có, đó là: (điền vào other), đèn phòng ' 'điện', 'Ánh sáng trong phòng')\n",
    "dream['Ánh sáng'] = dream['Ánh sáng'].replace('Có, đó là: (điền vào other), Tất cả' 'đèn đường', 'Ánh sáng trong phòng')\n",
    "dream['Ánh sáng'] = dream['Ánh sáng'].replace('Có, đó là: (điền vào other), đèn phòng ' 'điện', 'Ánh sáng trong phòng')\n",
    "dream['Ánh sáng'] = dream['Ánh sáng'].replace('đèn đường', 'Ánh sáng trong phòng')\n",
    "dream['Ánh sáng'] = dream['Ánh sáng'].replace('Có, đó là: (điền vào other), đèn phòng ', 'Ánh sáng trong phòng')\n",
    "dream['Ánh sáng'] = dream['Ánh sáng'].replace('điện', 'Ánh sáng trong phòng')\n",
    "\n",
    "dream['Ánh sáng'] = dream['Ánh sáng'].replace('Có, đó là: (điền vào other), Ánh sáng mặt trời', 'Ánh sáng mặt trời')\n",
    "dream['Ánh sáng'] = dream['Ánh sáng'].replace('Có, đó là: (điền vào other), Ánh sáng từ bên ngoài cửa sổ', 'Ánh sáng mặt trời')\n",
    "dream['Ánh sáng'] = dream['Ánh sáng'].replace('Có, đó là: (điền vào other), Tiếng ồn, ánh sáng buổi sáng', 'Ánh sáng mặt trời')\n",
    "dream['Ánh sáng'] = dream['Ánh sáng'].replace('Có, đó là: (điền vào other), Ánh nắng mặt trời', 'Ánh sáng mặt trời')\n",
    "dream['Ánh sáng'] = dream['Ánh sáng'].replace('Có, đó là: (điền vào other), Ánh sáng mặt trời, ánh đèn ', 'Ánh sáng mặt trời')\n",
    "dream['Ánh sáng'] = dream['Ánh sáng'].replace('Có, đó là: (điền vào other), Ánh nắng, đèn phòng ', 'Ánh sáng mặt trời')\n",
    "dream['Ánh sáng'] = dream['Ánh sáng'].replace('Có, đó là: (điền vào other), Nắng', 'Ánh sáng mặt trời')\n",
    "dream['Ánh sáng'] = dream['Ánh sáng'].replace('Có, đó là: (điền vào other), Không rõ', 'Không')\n",
    "dream['Ánh sáng'] = dream['Ánh sáng'].replace('Không rõ', 'Không')\n",
    "dream['Ánh sáng'] = dream['Ánh sáng'].replace('Có, đó là: (điền vào other), Không, ', 'Không')\n",
    "\n",
    "dream['Ánh sáng'] = dream['Ánh sáng'].replace('Có, đó là: (điền vào other), Tất cả', 'Tất cả')\n",
    "dream['Ánh sáng'] = dream['Ánh sáng'].replace('Có, đó là: (điền vào other)', 'Tất cả')"
   ]
  },
  {
   "cell_type": "code",
   "execution_count": 88,
   "id": "fdef642a",
   "metadata": {},
   "outputs": [
    {
     "name": "stdout",
     "output_type": "stream",
     "text": [
      "1. Thuộc tính : ['Ánh sáng trong phòng' 'Không' 'Tất cả' 'Ánh sáng mặt trời']\n"
     ]
    }
   ],
   "source": [
    "print('1. Thuộc tính :', dream['Ánh sáng'].unique())"
   ]
  },
  {
   "cell_type": "code",
   "execution_count": 89,
   "id": "f391ae4a",
   "metadata": {},
   "outputs": [],
   "source": [
    "dream['Ánh sáng'] = dream['Ánh sáng'].replace('Ánh sáng mặt trời', 'Có')\n",
    "dream['Ánh sáng'] = dream['Ánh sáng'].replace('Ánh sáng trong phòng', 'Có')\n",
    "dream['Ánh sáng'] = dream['Ánh sáng'].replace('Tất cả', 'Có')"
   ]
  },
  {
   "cell_type": "code",
   "execution_count": 90,
   "id": "a5e10eaa",
   "metadata": {},
   "outputs": [],
   "source": [
    "convert= {'Không': 1,\n",
    "                'Có':2\n",
    "         }\n",
    "dream['Ánh sáng']=dream['Ánh sáng'].map(convert).astype(int)"
   ]
  },
  {
   "cell_type": "code",
   "execution_count": null,
   "id": "e0da5a93",
   "metadata": {},
   "outputs": [],
   "source": []
  },
  {
   "cell_type": "code",
   "execution_count": 91,
   "id": "7954679b",
   "metadata": {},
   "outputs": [
    {
     "name": "stdout",
     "output_type": "stream",
     "text": [
      "1. Thuộc tính : ['>3 lần/tuần' 'Không lần nào' '1-2 lần/tuần']\n"
     ]
    }
   ],
   "source": [
    "print('1. Thuộc tính :', dream['Thời gian ánh sáng'].unique())"
   ]
  },
  {
   "cell_type": "code",
   "execution_count": 92,
   "id": "1842bd3b",
   "metadata": {},
   "outputs": [],
   "source": [
    "convert= {'Không lần nào': 1,\n",
    "                '1-2 lần/tuần':2,\n",
    "                '>3 lần/tuần':3\n",
    "                    }\n",
    "dream['Thời gian ánh sáng']=dream['Thời gian ánh sáng'].map(convert).astype(int)"
   ]
  },
  {
   "cell_type": "code",
   "execution_count": null,
   "id": "647b44ce",
   "metadata": {},
   "outputs": [],
   "source": []
  },
  {
   "cell_type": "code",
   "execution_count": 93,
   "id": "e6463108",
   "metadata": {},
   "outputs": [
    {
     "name": "stdout",
     "output_type": "stream",
     "text": [
      "1. Thuộc tính : ['Có, đó là: (điền vào other), bạn cùng phòng lầm rầm ' 'Không'\n",
      " 'Có, đó là: (điền vào other)'\n",
      " 'Có, đó là: (điền vào other), Tiếng nói chuyện phòng bên cạnh' 'Không rõ'\n",
      " 'Có, đó là: (điền vào other), Tiếng nói chuyện, tiếng ngáy'\n",
      " 'Có, đó là: (điền vào other), Tiếng ồn từ phòng bên cạnh'\n",
      " 'Có, đó là: (điền vào other), Tiếng nhạc của phòng đối diện'\n",
      " 'Không, Không rõ'\n",
      " 'Có, đó là: (điền vào other), Tiếng chuông điện thoại từ vợ gọi'\n",
      " 'Có, đó là: (điền vào other), Không'\n",
      " 'Có, đó là: (điền vào other), Tiếng đi lại của người xung quanh'\n",
      " 'Có, đó là: (điền vào other), bạn cùng phòng nói nhiều'\n",
      " 'Có, đó là: (điền vào other), Tiếng mèo kêu, chuột chạy'\n",
      " 'Có, đó là: (điền vào other), Tiếng đường tàu'\n",
      " 'Có, đó là: (điền vào other), Bà lao công 6h sáng lên dọn phòng đập cửa'\n",
      " 'Có, đó là: (điền vào other), Tiếng xe máy' 'tiếng người'\n",
      " 'Có, đó là: (điền vào other), Không rõ, Tiếng xe trên đường'\n",
      " 'Có, đó là: (điền vào other), Tiếng xe'\n",
      " 'Có, đó là: (điền vào other), bạn cùng phòng chơi game '\n",
      " 'Có, đó là: (điền vào other), Tiếng bạn cùng phòng chơi game, tiếng đôi khi nửa đêm có người dậy làm ồn bằng nấu ăn hay học lúc 4h sáng'\n",
      " 'Có, đó là: (điền vào other), Xe'\n",
      " 'Có, đó là: (điền vào other), Nói chuyện '\n",
      " 'Có, đó là: (điền vào other), Các chị cùng phòng nói chuyện to'\n",
      " 'Có, đó là: (điền vào other), Tiếng ns chuyện cửa đứa cùng phòng'\n",
      " 'Có, đó là: (điền vào other), tiếng phương tiện giao thông qua lại '\n",
      " 'Có, đó là: (điền vào other), Tiếng tầng trên nấu ăn, làm rơi đồ đạc'\n",
      " 'Có, đó là: (điền vào other), Tiếng còi xe'\n",
      " 'Có, đó là: (điền vào other), Tiếng ồn từ phòng bên cạnh '\n",
      " 'Có, đó là: (điền vào other), Tiếng chợ gần nhà, tiếng ồn từ phòng bên cạnh ']\n"
     ]
    }
   ],
   "source": [
    "print('1. Thuộc tính :', dream['Tiếng ồn'].unique())"
   ]
  },
  {
   "cell_type": "code",
   "execution_count": 94,
   "id": "1343823c",
   "metadata": {},
   "outputs": [],
   "source": [
    "dream['Tiếng ồn'] = dream['Tiếng ồn'].replace('Có, đó là: (điền vào other), bạn cùng phòng lầm rầm ', 'Trong phòng')\n",
    "dream['Tiếng ồn'] = dream['Tiếng ồn'].replace('Có, đó là: (điền vào other)', 'Trong phòng')\n",
    "dream['Tiếng ồn'] = dream['Tiếng ồn'].replace('Có, đó là: (điền vào other), Tiếng nói chuyện, tiếng ngáy', 'Trong phòng')\n",
    "dream['Tiếng ồn'] = dream['Tiếng ồn'].replace('Có, đó là: (điền vào other), bạn cùng phòng nói nhiều', 'Trong phòng')\n",
    "dream['Tiếng ồn'] = dream['Tiếng ồn'].replace('Có, đó là: (điền vào other), Tiếng mèo kêu, chuột chạy', 'Trong phòng')\n",
    "dream['Tiếng ồn'] = dream['Tiếng ồn'].replace('Có, đó là: (điền vào other), bạn cùng phòng chơi game ', 'Trong phòng')\n",
    "dream['Tiếng ồn'] = dream['Tiếng ồn'].replace('Có, đó là: (điền vào other), Tiếng bạn cùng phòng chơi game, tiếng đôi khi nửa đêm có người dậy làm ồn bằng nấu ăn hay học lúc 4h sáng', 'Trong phòng')\n",
    "dream['Tiếng ồn'] = dream['Tiếng ồn'].replace('Có, đó là: (điền vào other), Nói chuyện ', 'Trong phòng')\n",
    "dream['Tiếng ồn'] = dream['Tiếng ồn'].replace('Có, đó là: (điền vào other), Các chị cùng phòng nói chuyện to', 'Trong phòng')\n",
    "dream['Tiếng ồn'] = dream['Tiếng ồn'].replace('Có, đó là: (điền vào other), Tiếng tầng trên nấu ăn, làm rơi đồ đạc', 'Trong phòng')\n",
    "dream['Tiếng ồn'] = dream['Tiếng ồn'].replace('Có, đó là: (điền vào other), Tiếng ns chuyện cửa đứa cùng phòng', 'Trong phòng')\n",
    "dream['Tiếng ồn'] = dream['Tiếng ồn'].replace('Có, đó là: (điền vào other), Tiếng ồn từ phòng bên cạnh ', 'Trong phòng')\n",
    "dream['Tiếng ồn'] = dream['Tiếng ồn'].replace('Có, đó là: (điền vào other), bạn cùng phòng lầm rầm ', 'Trong phòng')\n",
    "dream['Tiếng ồn'] = dream['Tiếng ồn'].replace('Có, đó là: (điền vào other), bạn cùng phòng lầm rầm ', 'Trong phòng')\n",
    "\n",
    "dream['Tiếng ồn'] = dream['Tiếng ồn'].replace('Có, đó là: (điền vào other), Tiếng xe', 'Bên ngoài')\n",
    "dream['Tiếng ồn'] = dream['Tiếng ồn'].replace('Có, đó là: (điền vào other), Không rõ, Tiếng xe trên đường', 'Bên ngoài')\n",
    "dream['Tiếng ồn'] = dream['Tiếng ồn'].replace('Có, đó là: (điền vào other), Tiếng xe máy' 'tiếng người', 'Bên ngoài')\n",
    "dream['Tiếng ồn'] = dream['Tiếng ồn'].replace('Có, đó là: (điền vào other), Bà lao công 6h sáng lên dọn phòng đập cửa', 'Bên ngoài')\n",
    "dream['Tiếng ồn'] = dream['Tiếng ồn'].replace('Có, đó là: (điền vào other), Tiếng đường tàu', 'Bên ngoài')\n",
    "dream['Tiếng ồn'] = dream['Tiếng ồn'].replace('Có, đó là: (điền vào other), Tiếng đi lại của người xung quanh', 'Bên ngoài')\n",
    "dream['Tiếng ồn'] = dream['Tiếng ồn'].replace('Có, đó là: (điền vào other), Tiếng chuông điện thoại từ vợ gọi', 'Bên ngoài')\n",
    "dream['Tiếng ồn'] = dream['Tiếng ồn'].replace('Có, đó là: (điền vào other), Tiếng nhạc của phòng đối diện', 'Bên ngoài')\n",
    "dream['Tiếng ồn'] = dream['Tiếng ồn'].replace('Có, đó là: (điền vào other), Tiếng ồn từ phòng bên cạnh', 'Bên ngoài')\n",
    "dream['Tiếng ồn'] = dream['Tiếng ồn'].replace('Có, đó là: (điền vào other), Xe', 'Bên ngoài')\n",
    "dream['Tiếng ồn'] = dream['Tiếng ồn'].replace('Có, đó là: (điền vào other), tiếng phương tiện giao thông qua lại ', 'Bên ngoài')\n",
    "dream['Tiếng ồn'] = dream['Tiếng ồn'].replace('Có, đó là: (điền vào other), Tiếng còi xe', 'Bên ngoài')\n",
    "dream['Tiếng ồn'] = dream['Tiếng ồn'].replace('Có, đó là: (điền vào other), Tiếng ồn từ phòng bên cạnh ', 'Bên ngoài')\n",
    "dream['Tiếng ồn'] = dream['Tiếng ồn'].replace('Có, đó là: (điền vào other), Tiếng chợ gần nhà, tiếng ồn từ phòng bên cạnh ', 'Bên ngoài')\n",
    "dream['Tiếng ồn'] = dream['Tiếng ồn'].replace('Có, đó là: (điền vào other), Tiếng xe máy', 'Bên ngoài')\n",
    "dream['Tiếng ồn'] = dream['Tiếng ồn'].replace('Có, đó là: (điền vào other), Tiếng nói chuyện phòng bên cạnh', 'Bên ngoài')\n",
    "dream['Tiếng ồn'] = dream['Tiếng ồn'].replace('tiếng người', 'Bên ngoài')\n",
    "\n",
    "dream['Tiếng ồn'] = dream['Tiếng ồn'].replace('Không rõ', 'Không')\n",
    "dream['Tiếng ồn'] = dream['Tiếng ồn'].replace('Không, Không rõ' 'Có, đó là: (điền vào other), Không', 'Không')\n",
    "dream['Tiếng ồn'] = dream['Tiếng ồn'].replace('Không, Không rõ', 'Không')\n",
    "dream['Tiếng ồn'] = dream['Tiếng ồn'].replace('Có, đó là: (điền vào other), Không', 'Không')\n"
   ]
  },
  {
   "cell_type": "code",
   "execution_count": 95,
   "id": "9eee6ad6",
   "metadata": {},
   "outputs": [
    {
     "name": "stdout",
     "output_type": "stream",
     "text": [
      "1. Thuộc tính : ['Trong phòng' 'Không' 'Bên ngoài']\n"
     ]
    }
   ],
   "source": [
    "print('1. Thuộc tính :', dream['Tiếng ồn'].unique())"
   ]
  },
  {
   "cell_type": "code",
   "execution_count": 96,
   "id": "268da9df",
   "metadata": {},
   "outputs": [],
   "source": [
    "dream['Tiếng ồn'] = dream['Tiếng ồn'].replace('Bên ngoài', 'Có')\n",
    "dream['Tiếng ồn'] = dream['Tiếng ồn'].replace('Trong phòng', 'Có')"
   ]
  },
  {
   "cell_type": "code",
   "execution_count": 97,
   "id": "3e379d1c",
   "metadata": {},
   "outputs": [],
   "source": [
    "convert= {'Không': 1,\n",
    "                'Có':2\n",
    "                    }\n",
    "dream['Tiếng ồn']=dream['Tiếng ồn'].map(convert).astype(int)"
   ]
  },
  {
   "cell_type": "code",
   "execution_count": null,
   "id": "a836f9ce",
   "metadata": {},
   "outputs": [],
   "source": []
  },
  {
   "cell_type": "code",
   "execution_count": 98,
   "id": "62223503",
   "metadata": {},
   "outputs": [
    {
     "name": "stdout",
     "output_type": "stream",
     "text": [
      "1. Thuộc tính : ['1-2 lần/tuần' 'Không lần nào' '>3 lần/tuần']\n"
     ]
    }
   ],
   "source": [
    "print('1. Thuộc tính :', dream['Thời gian tiếng ồn'].unique())"
   ]
  },
  {
   "cell_type": "code",
   "execution_count": 99,
   "id": "070cdeae",
   "metadata": {},
   "outputs": [],
   "source": [
    "convert= {'Không lần nào': 1,\n",
    "                '1-2 lần/tuần':2,\n",
    "                '>3 lần/tuần':3\n",
    "                    }\n",
    "dream['Thời gian tiếng ồn']=dream['Thời gian tiếng ồn'].map(convert).astype(int)"
   ]
  },
  {
   "cell_type": "code",
   "execution_count": 100,
   "id": "fd606ffa",
   "metadata": {},
   "outputs": [],
   "source": [
    "#Lưu file\n",
    "dream.to_excel('Data/Data_ok.xlsx', index=False)"
   ]
  },
  {
   "cell_type": "code",
   "execution_count": null,
   "id": "62fcccbb",
   "metadata": {},
   "outputs": [],
   "source": []
  },
  {
   "cell_type": "code",
   "execution_count": null,
   "id": "1f7c10ee",
   "metadata": {},
   "outputs": [],
   "source": []
  },
  {
   "cell_type": "code",
   "execution_count": null,
   "id": "b5a76738",
   "metadata": {},
   "outputs": [],
   "source": []
  },
  {
   "cell_type": "code",
   "execution_count": null,
   "id": "d86cf4fd",
   "metadata": {},
   "outputs": [],
   "source": []
  }
 ],
 "metadata": {
  "kernelspec": {
   "display_name": "Python 3 (ipykernel)",
   "language": "python",
   "name": "python3"
  },
  "language_info": {
   "codemirror_mode": {
    "name": "ipython",
    "version": 3
   },
   "file_extension": ".py",
   "mimetype": "text/x-python",
   "name": "python",
   "nbconvert_exporter": "python",
   "pygments_lexer": "ipython3",
   "version": "3.9.12"
  }
 },
 "nbformat": 4,
 "nbformat_minor": 5
}
